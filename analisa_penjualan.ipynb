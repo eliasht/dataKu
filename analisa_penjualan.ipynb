{
  "nbformat": 4,
  "nbformat_minor": 0,
  "metadata": {
    "colab": {
      "name": "analisa penjualan.ipynb",
      "provenance": [],
      "authorship_tag": "ABX9TyOdWmez2/r+/E8ogXHwKCUp",
      "include_colab_link": true
    },
    "kernelspec": {
      "name": "python3",
      "display_name": "Python 3"
    },
    "language_info": {
      "name": "python"
    }
  },
  "cells": [
    {
      "cell_type": "markdown",
      "metadata": {
        "id": "view-in-github",
        "colab_type": "text"
      },
      "source": [
        "<a href=\"https://colab.research.google.com/github/eliasht/dataKu/blob/main/analisa_penjualan.ipynb\" target=\"_parent\"><img src=\"https://colab.research.google.com/assets/colab-badge.svg\" alt=\"Open In Colab\"/></a>"
      ]
    },
    {
      "cell_type": "code",
      "metadata": {
        "colab": {
          "base_uri": "https://localhost:8080/"
        },
        "id": "DIjppymDqOKe",
        "outputId": "1db3f93a-5ca2-42e2-e418-23e45ddcb440"
      },
      "source": [
        "# koneksi ke google drive untuk mengambil data\n",
        "from google.colab import drive\n",
        "drive.mount('/content/gdrive')"
      ],
      "execution_count": 1,
      "outputs": [
        {
          "output_type": "stream",
          "text": [
            "Mounted at /content/gdrive\n"
          ],
          "name": "stdout"
        }
      ]
    },
    {
      "cell_type": "code",
      "metadata": {
        "colab": {
          "base_uri": "https://localhost:8080/"
        },
        "id": "fh4esOymrrv3",
        "outputId": "c388cb76-43c0-4bd0-d3fa-206a12619bbd"
      },
      "source": [
        "import os\n",
        "\n",
        "path = \"gdrive/MyDrive/Data/\"\n",
        "os.listdir(path)"
      ],
      "execution_count": 12,
      "outputs": [
        {
          "output_type": "execute_result",
          "data": {
            "text/plain": [
              "['Pandas-Data-Science-Tasks-master', 'Sales_Data']"
            ]
          },
          "metadata": {
            "tags": []
          },
          "execution_count": 12
        }
      ]
    },
    {
      "cell_type": "code",
      "metadata": {
        "colab": {
          "base_uri": "https://localhost:8080/",
          "height": 204
        },
        "id": "P4bhSmsutIAx",
        "outputId": "d207688c-f780-48df-e3fb-8aef54c7a5c4"
      },
      "source": [
        "# menyatukan semua data menjadi satu file\n",
        "import pandas as pd\n",
        "\n",
        "df = pd.read_csv(path +\"./Sales_Data/Sales_April_2019.csv\")\n",
        "\n",
        "files = [file for file in os.listdir(path +'./Sales_Data')]\n",
        "\n",
        "all_data = pd.DataFrame()\n",
        "\n",
        "for file in files:\n",
        "    df = pd.read_csv(path +\"./Sales_Data/\"+file)\n",
        "    all_data = pd.concat([all_data, df])\n",
        "\n",
        "all_data.head()"
      ],
      "execution_count": 13,
      "outputs": [
        {
          "output_type": "execute_result",
          "data": {
            "text/html": [
              "<div>\n",
              "<style scoped>\n",
              "    .dataframe tbody tr th:only-of-type {\n",
              "        vertical-align: middle;\n",
              "    }\n",
              "\n",
              "    .dataframe tbody tr th {\n",
              "        vertical-align: top;\n",
              "    }\n",
              "\n",
              "    .dataframe thead th {\n",
              "        text-align: right;\n",
              "    }\n",
              "</style>\n",
              "<table border=\"1\" class=\"dataframe\">\n",
              "  <thead>\n",
              "    <tr style=\"text-align: right;\">\n",
              "      <th></th>\n",
              "      <th>Order ID</th>\n",
              "      <th>Product</th>\n",
              "      <th>Quantity Ordered</th>\n",
              "      <th>Price Each</th>\n",
              "      <th>Order Date</th>\n",
              "      <th>Purchase Address</th>\n",
              "    </tr>\n",
              "  </thead>\n",
              "  <tbody>\n",
              "    <tr>\n",
              "      <th>0</th>\n",
              "      <td>176558</td>\n",
              "      <td>USB-C Charging Cable</td>\n",
              "      <td>2</td>\n",
              "      <td>11.95</td>\n",
              "      <td>04/19/19 08:46</td>\n",
              "      <td>917 1st St, Dallas, TX 75001</td>\n",
              "    </tr>\n",
              "    <tr>\n",
              "      <th>1</th>\n",
              "      <td>NaN</td>\n",
              "      <td>NaN</td>\n",
              "      <td>NaN</td>\n",
              "      <td>NaN</td>\n",
              "      <td>NaN</td>\n",
              "      <td>NaN</td>\n",
              "    </tr>\n",
              "    <tr>\n",
              "      <th>2</th>\n",
              "      <td>176559</td>\n",
              "      <td>Bose SoundSport Headphones</td>\n",
              "      <td>1</td>\n",
              "      <td>99.99</td>\n",
              "      <td>04/07/19 22:30</td>\n",
              "      <td>682 Chestnut St, Boston, MA 02215</td>\n",
              "    </tr>\n",
              "    <tr>\n",
              "      <th>3</th>\n",
              "      <td>176560</td>\n",
              "      <td>Google Phone</td>\n",
              "      <td>1</td>\n",
              "      <td>600</td>\n",
              "      <td>04/12/19 14:38</td>\n",
              "      <td>669 Spruce St, Los Angeles, CA 90001</td>\n",
              "    </tr>\n",
              "    <tr>\n",
              "      <th>4</th>\n",
              "      <td>176560</td>\n",
              "      <td>Wired Headphones</td>\n",
              "      <td>1</td>\n",
              "      <td>11.99</td>\n",
              "      <td>04/12/19 14:38</td>\n",
              "      <td>669 Spruce St, Los Angeles, CA 90001</td>\n",
              "    </tr>\n",
              "  </tbody>\n",
              "</table>\n",
              "</div>"
            ],
            "text/plain": [
              "  Order ID  ...                      Purchase Address\n",
              "0   176558  ...          917 1st St, Dallas, TX 75001\n",
              "1      NaN  ...                                   NaN\n",
              "2   176559  ...     682 Chestnut St, Boston, MA 02215\n",
              "3   176560  ...  669 Spruce St, Los Angeles, CA 90001\n",
              "4   176560  ...  669 Spruce St, Los Angeles, CA 90001\n",
              "\n",
              "[5 rows x 6 columns]"
            ]
          },
          "metadata": {
            "tags": []
          },
          "execution_count": 13
        }
      ]
    },
    {
      "cell_type": "code",
      "metadata": {
        "id": "M4mLDBXVwzuV"
      },
      "source": [
        "# menyimpan semua data ke csv\n",
        "all_data.to_csv(path + 'all_data.csv', index= False)"
      ],
      "execution_count": 15,
      "outputs": []
    },
    {
      "cell_type": "code",
      "metadata": {
        "colab": {
          "base_uri": "https://localhost:8080/"
        },
        "id": "5MYKsElpArni",
        "outputId": "968f59cb-46dd-4320-cf30-90a7d59c87b8"
      },
      "source": [
        "# membaca data yang terbaru\n",
        "all_data = pd.read_csv(path +'all_data.csv')\n",
        "# all_data.head()\n",
        "all_data.info()"
      ],
      "execution_count": 19,
      "outputs": [
        {
          "output_type": "stream",
          "text": [
            "<class 'pandas.core.frame.DataFrame'>\n",
            "RangeIndex: 186850 entries, 0 to 186849\n",
            "Data columns (total 6 columns):\n",
            " #   Column            Non-Null Count   Dtype \n",
            "---  ------            --------------   ----- \n",
            " 0   Order ID          186305 non-null  object\n",
            " 1   Product           186305 non-null  object\n",
            " 2   Quantity Ordered  186305 non-null  object\n",
            " 3   Price Each        186305 non-null  object\n",
            " 4   Order Date        186305 non-null  object\n",
            " 5   Purchase Address  186305 non-null  object\n",
            "dtypes: object(6)\n",
            "memory usage: 8.6+ MB\n"
          ],
          "name": "stdout"
        }
      ]
    },
    {
      "cell_type": "markdown",
      "metadata": {
        "id": "HQgEiukqCHC9"
      },
      "source": [
        "**Pre-processing data**"
      ]
    },
    {
      "cell_type": "code",
      "metadata": {
        "colab": {
          "base_uri": "https://localhost:8080/",
          "height": 204
        },
        "id": "z0Uc9yyWDwRE",
        "outputId": "7b8b1d6e-a165-40ce-e0f9-f6479b504b99"
      },
      "source": [
        "# membersihkan data\n",
        "nan_df = all_data[all_data.isna().any(axis=1)]\n",
        "nan_df.head()"
      ],
      "execution_count": 24,
      "outputs": [
        {
          "output_type": "execute_result",
          "data": {
            "text/html": [
              "<div>\n",
              "<style scoped>\n",
              "    .dataframe tbody tr th:only-of-type {\n",
              "        vertical-align: middle;\n",
              "    }\n",
              "\n",
              "    .dataframe tbody tr th {\n",
              "        vertical-align: top;\n",
              "    }\n",
              "\n",
              "    .dataframe thead th {\n",
              "        text-align: right;\n",
              "    }\n",
              "</style>\n",
              "<table border=\"1\" class=\"dataframe\">\n",
              "  <thead>\n",
              "    <tr style=\"text-align: right;\">\n",
              "      <th></th>\n",
              "      <th>Order ID</th>\n",
              "      <th>Product</th>\n",
              "      <th>Quantity Ordered</th>\n",
              "      <th>Price Each</th>\n",
              "      <th>Order Date</th>\n",
              "      <th>Purchase Address</th>\n",
              "      <th>Month</th>\n",
              "    </tr>\n",
              "  </thead>\n",
              "  <tbody>\n",
              "    <tr>\n",
              "      <th>1</th>\n",
              "      <td>NaN</td>\n",
              "      <td>NaN</td>\n",
              "      <td>NaN</td>\n",
              "      <td>NaN</td>\n",
              "      <td>NaN</td>\n",
              "      <td>NaN</td>\n",
              "      <td>NaN</td>\n",
              "    </tr>\n",
              "    <tr>\n",
              "      <th>356</th>\n",
              "      <td>NaN</td>\n",
              "      <td>NaN</td>\n",
              "      <td>NaN</td>\n",
              "      <td>NaN</td>\n",
              "      <td>NaN</td>\n",
              "      <td>NaN</td>\n",
              "      <td>NaN</td>\n",
              "    </tr>\n",
              "    <tr>\n",
              "      <th>735</th>\n",
              "      <td>NaN</td>\n",
              "      <td>NaN</td>\n",
              "      <td>NaN</td>\n",
              "      <td>NaN</td>\n",
              "      <td>NaN</td>\n",
              "      <td>NaN</td>\n",
              "      <td>NaN</td>\n",
              "    </tr>\n",
              "    <tr>\n",
              "      <th>1433</th>\n",
              "      <td>NaN</td>\n",
              "      <td>NaN</td>\n",
              "      <td>NaN</td>\n",
              "      <td>NaN</td>\n",
              "      <td>NaN</td>\n",
              "      <td>NaN</td>\n",
              "      <td>NaN</td>\n",
              "    </tr>\n",
              "    <tr>\n",
              "      <th>1553</th>\n",
              "      <td>NaN</td>\n",
              "      <td>NaN</td>\n",
              "      <td>NaN</td>\n",
              "      <td>NaN</td>\n",
              "      <td>NaN</td>\n",
              "      <td>NaN</td>\n",
              "      <td>NaN</td>\n",
              "    </tr>\n",
              "  </tbody>\n",
              "</table>\n",
              "</div>"
            ],
            "text/plain": [
              "     Order ID Product Quantity Ordered  ... Order Date Purchase Address Month\n",
              "1         NaN     NaN              NaN  ...        NaN              NaN   NaN\n",
              "356       NaN     NaN              NaN  ...        NaN              NaN   NaN\n",
              "735       NaN     NaN              NaN  ...        NaN              NaN   NaN\n",
              "1433      NaN     NaN              NaN  ...        NaN              NaN   NaN\n",
              "1553      NaN     NaN              NaN  ...        NaN              NaN   NaN\n",
              "\n",
              "[5 rows x 7 columns]"
            ]
          },
          "metadata": {
            "tags": []
          },
          "execution_count": 24
        }
      ]
    },
    {
      "cell_type": "code",
      "metadata": {
        "colab": {
          "base_uri": "https://localhost:8080/",
          "height": 204
        },
        "id": "M1az9IJLE_go",
        "outputId": "ce218686-e730-417b-fbaf-beef6799bc90"
      },
      "source": [
        "all_data = all_data.dropna(how='all')\n",
        "all_data.head()"
      ],
      "execution_count": 25,
      "outputs": [
        {
          "output_type": "execute_result",
          "data": {
            "text/html": [
              "<div>\n",
              "<style scoped>\n",
              "    .dataframe tbody tr th:only-of-type {\n",
              "        vertical-align: middle;\n",
              "    }\n",
              "\n",
              "    .dataframe tbody tr th {\n",
              "        vertical-align: top;\n",
              "    }\n",
              "\n",
              "    .dataframe thead th {\n",
              "        text-align: right;\n",
              "    }\n",
              "</style>\n",
              "<table border=\"1\" class=\"dataframe\">\n",
              "  <thead>\n",
              "    <tr style=\"text-align: right;\">\n",
              "      <th></th>\n",
              "      <th>Order ID</th>\n",
              "      <th>Product</th>\n",
              "      <th>Quantity Ordered</th>\n",
              "      <th>Price Each</th>\n",
              "      <th>Order Date</th>\n",
              "      <th>Purchase Address</th>\n",
              "      <th>Month</th>\n",
              "    </tr>\n",
              "  </thead>\n",
              "  <tbody>\n",
              "    <tr>\n",
              "      <th>0</th>\n",
              "      <td>176558</td>\n",
              "      <td>USB-C Charging Cable</td>\n",
              "      <td>2</td>\n",
              "      <td>11.95</td>\n",
              "      <td>04/19/19 08:46</td>\n",
              "      <td>917 1st St, Dallas, TX 75001</td>\n",
              "      <td>04</td>\n",
              "    </tr>\n",
              "    <tr>\n",
              "      <th>2</th>\n",
              "      <td>176559</td>\n",
              "      <td>Bose SoundSport Headphones</td>\n",
              "      <td>1</td>\n",
              "      <td>99.99</td>\n",
              "      <td>04/07/19 22:30</td>\n",
              "      <td>682 Chestnut St, Boston, MA 02215</td>\n",
              "      <td>04</td>\n",
              "    </tr>\n",
              "    <tr>\n",
              "      <th>3</th>\n",
              "      <td>176560</td>\n",
              "      <td>Google Phone</td>\n",
              "      <td>1</td>\n",
              "      <td>600</td>\n",
              "      <td>04/12/19 14:38</td>\n",
              "      <td>669 Spruce St, Los Angeles, CA 90001</td>\n",
              "      <td>04</td>\n",
              "    </tr>\n",
              "    <tr>\n",
              "      <th>4</th>\n",
              "      <td>176560</td>\n",
              "      <td>Wired Headphones</td>\n",
              "      <td>1</td>\n",
              "      <td>11.99</td>\n",
              "      <td>04/12/19 14:38</td>\n",
              "      <td>669 Spruce St, Los Angeles, CA 90001</td>\n",
              "      <td>04</td>\n",
              "    </tr>\n",
              "    <tr>\n",
              "      <th>5</th>\n",
              "      <td>176561</td>\n",
              "      <td>Wired Headphones</td>\n",
              "      <td>1</td>\n",
              "      <td>11.99</td>\n",
              "      <td>04/30/19 09:27</td>\n",
              "      <td>333 8th St, Los Angeles, CA 90001</td>\n",
              "      <td>04</td>\n",
              "    </tr>\n",
              "  </tbody>\n",
              "</table>\n",
              "</div>"
            ],
            "text/plain": [
              "  Order ID  ... Month\n",
              "0   176558  ...    04\n",
              "2   176559  ...    04\n",
              "3   176560  ...    04\n",
              "4   176560  ...    04\n",
              "5   176561  ...    04\n",
              "\n",
              "[5 rows x 7 columns]"
            ]
          },
          "metadata": {
            "tags": []
          },
          "execution_count": 25
        }
      ]
    },
    {
      "cell_type": "code",
      "metadata": {
        "colab": {
          "base_uri": "https://localhost:8080/",
          "height": 204
        },
        "id": "QnmLNt52GAe4",
        "outputId": "f7c78e32-314e-492c-8e60-6f3355364322"
      },
      "source": [
        "# menemukan data 'Or' atau menghapus\n",
        "# or_df = all_data[all_data['Order Date'].str[0:2] == 'Or']\n",
        "all_data = all_data[all_data['Order Date'].str[0:2] != 'Or']\n",
        "all_data.head()"
      ],
      "execution_count": 30,
      "outputs": [
        {
          "output_type": "execute_result",
          "data": {
            "text/html": [
              "<div>\n",
              "<style scoped>\n",
              "    .dataframe tbody tr th:only-of-type {\n",
              "        vertical-align: middle;\n",
              "    }\n",
              "\n",
              "    .dataframe tbody tr th {\n",
              "        vertical-align: top;\n",
              "    }\n",
              "\n",
              "    .dataframe thead th {\n",
              "        text-align: right;\n",
              "    }\n",
              "</style>\n",
              "<table border=\"1\" class=\"dataframe\">\n",
              "  <thead>\n",
              "    <tr style=\"text-align: right;\">\n",
              "      <th></th>\n",
              "      <th>Order ID</th>\n",
              "      <th>Product</th>\n",
              "      <th>Quantity Ordered</th>\n",
              "      <th>Price Each</th>\n",
              "      <th>Order Date</th>\n",
              "      <th>Purchase Address</th>\n",
              "      <th>Month</th>\n",
              "    </tr>\n",
              "  </thead>\n",
              "  <tbody>\n",
              "    <tr>\n",
              "      <th>0</th>\n",
              "      <td>176558</td>\n",
              "      <td>USB-C Charging Cable</td>\n",
              "      <td>2</td>\n",
              "      <td>11.95</td>\n",
              "      <td>04/19/19 08:46</td>\n",
              "      <td>917 1st St, Dallas, TX 75001</td>\n",
              "      <td>04</td>\n",
              "    </tr>\n",
              "    <tr>\n",
              "      <th>2</th>\n",
              "      <td>176559</td>\n",
              "      <td>Bose SoundSport Headphones</td>\n",
              "      <td>1</td>\n",
              "      <td>99.99</td>\n",
              "      <td>04/07/19 22:30</td>\n",
              "      <td>682 Chestnut St, Boston, MA 02215</td>\n",
              "      <td>04</td>\n",
              "    </tr>\n",
              "    <tr>\n",
              "      <th>3</th>\n",
              "      <td>176560</td>\n",
              "      <td>Google Phone</td>\n",
              "      <td>1</td>\n",
              "      <td>600</td>\n",
              "      <td>04/12/19 14:38</td>\n",
              "      <td>669 Spruce St, Los Angeles, CA 90001</td>\n",
              "      <td>04</td>\n",
              "    </tr>\n",
              "    <tr>\n",
              "      <th>4</th>\n",
              "      <td>176560</td>\n",
              "      <td>Wired Headphones</td>\n",
              "      <td>1</td>\n",
              "      <td>11.99</td>\n",
              "      <td>04/12/19 14:38</td>\n",
              "      <td>669 Spruce St, Los Angeles, CA 90001</td>\n",
              "      <td>04</td>\n",
              "    </tr>\n",
              "    <tr>\n",
              "      <th>5</th>\n",
              "      <td>176561</td>\n",
              "      <td>Wired Headphones</td>\n",
              "      <td>1</td>\n",
              "      <td>11.99</td>\n",
              "      <td>04/30/19 09:27</td>\n",
              "      <td>333 8th St, Los Angeles, CA 90001</td>\n",
              "      <td>04</td>\n",
              "    </tr>\n",
              "  </tbody>\n",
              "</table>\n",
              "</div>"
            ],
            "text/plain": [
              "  Order ID  ... Month\n",
              "0   176558  ...    04\n",
              "2   176559  ...    04\n",
              "3   176560  ...    04\n",
              "4   176560  ...    04\n",
              "5   176561  ...    04\n",
              "\n",
              "[5 rows x 7 columns]"
            ]
          },
          "metadata": {
            "tags": []
          },
          "execution_count": 30
        }
      ]
    },
    {
      "cell_type": "code",
      "metadata": {
        "colab": {
          "base_uri": "https://localhost:8080/",
          "height": 204
        },
        "id": "vjiIYdOzHuI4",
        "outputId": "5f881248-bfef-4e2a-d377-d63fc8220136"
      },
      "source": [
        "# conver kolom ke tipe data yang sesuai\n",
        "all_data['Quantity Ordered'] = pd.to_numeric(all_data['Quantity Ordered'])\n",
        "all_data['Price Each'] = pd.to_numeric(all_data['Price Each'])\n",
        "all_data.head()"
      ],
      "execution_count": 36,
      "outputs": [
        {
          "output_type": "execute_result",
          "data": {
            "text/html": [
              "<div>\n",
              "<style scoped>\n",
              "    .dataframe tbody tr th:only-of-type {\n",
              "        vertical-align: middle;\n",
              "    }\n",
              "\n",
              "    .dataframe tbody tr th {\n",
              "        vertical-align: top;\n",
              "    }\n",
              "\n",
              "    .dataframe thead th {\n",
              "        text-align: right;\n",
              "    }\n",
              "</style>\n",
              "<table border=\"1\" class=\"dataframe\">\n",
              "  <thead>\n",
              "    <tr style=\"text-align: right;\">\n",
              "      <th></th>\n",
              "      <th>Order ID</th>\n",
              "      <th>Product</th>\n",
              "      <th>Quantity Ordered</th>\n",
              "      <th>Price Each</th>\n",
              "      <th>Order Date</th>\n",
              "      <th>Purchase Address</th>\n",
              "      <th>Month</th>\n",
              "    </tr>\n",
              "  </thead>\n",
              "  <tbody>\n",
              "    <tr>\n",
              "      <th>0</th>\n",
              "      <td>176558</td>\n",
              "      <td>USB-C Charging Cable</td>\n",
              "      <td>2</td>\n",
              "      <td>11.95</td>\n",
              "      <td>04/19/19 08:46</td>\n",
              "      <td>917 1st St, Dallas, TX 75001</td>\n",
              "      <td>4</td>\n",
              "    </tr>\n",
              "    <tr>\n",
              "      <th>2</th>\n",
              "      <td>176559</td>\n",
              "      <td>Bose SoundSport Headphones</td>\n",
              "      <td>1</td>\n",
              "      <td>99.99</td>\n",
              "      <td>04/07/19 22:30</td>\n",
              "      <td>682 Chestnut St, Boston, MA 02215</td>\n",
              "      <td>4</td>\n",
              "    </tr>\n",
              "    <tr>\n",
              "      <th>3</th>\n",
              "      <td>176560</td>\n",
              "      <td>Google Phone</td>\n",
              "      <td>1</td>\n",
              "      <td>600.00</td>\n",
              "      <td>04/12/19 14:38</td>\n",
              "      <td>669 Spruce St, Los Angeles, CA 90001</td>\n",
              "      <td>4</td>\n",
              "    </tr>\n",
              "    <tr>\n",
              "      <th>4</th>\n",
              "      <td>176560</td>\n",
              "      <td>Wired Headphones</td>\n",
              "      <td>1</td>\n",
              "      <td>11.99</td>\n",
              "      <td>04/12/19 14:38</td>\n",
              "      <td>669 Spruce St, Los Angeles, CA 90001</td>\n",
              "      <td>4</td>\n",
              "    </tr>\n",
              "    <tr>\n",
              "      <th>5</th>\n",
              "      <td>176561</td>\n",
              "      <td>Wired Headphones</td>\n",
              "      <td>1</td>\n",
              "      <td>11.99</td>\n",
              "      <td>04/30/19 09:27</td>\n",
              "      <td>333 8th St, Los Angeles, CA 90001</td>\n",
              "      <td>4</td>\n",
              "    </tr>\n",
              "  </tbody>\n",
              "</table>\n",
              "</div>"
            ],
            "text/plain": [
              "  Order ID  ... Month\n",
              "0   176558  ...     4\n",
              "2   176559  ...     4\n",
              "3   176560  ...     4\n",
              "4   176560  ...     4\n",
              "5   176561  ...     4\n",
              "\n",
              "[5 rows x 7 columns]"
            ]
          },
          "metadata": {
            "tags": []
          },
          "execution_count": 36
        }
      ]
    },
    {
      "cell_type": "code",
      "metadata": {
        "colab": {
          "base_uri": "https://localhost:8080/",
          "height": 204
        },
        "id": "s_RoWZ46CFAV",
        "outputId": "c5648371-da01-4a94-e133-6a058d1a540d"
      },
      "source": [
        "# menambah Kolom bulan\n",
        "all_data['Month'] = all_data['Order Date'].str[0:2]\n",
        "all_data['Month'] = all_data['Month'].astype('int32')\n",
        "all_data.head()"
      ],
      "execution_count": 31,
      "outputs": [
        {
          "output_type": "execute_result",
          "data": {
            "text/html": [
              "<div>\n",
              "<style scoped>\n",
              "    .dataframe tbody tr th:only-of-type {\n",
              "        vertical-align: middle;\n",
              "    }\n",
              "\n",
              "    .dataframe tbody tr th {\n",
              "        vertical-align: top;\n",
              "    }\n",
              "\n",
              "    .dataframe thead th {\n",
              "        text-align: right;\n",
              "    }\n",
              "</style>\n",
              "<table border=\"1\" class=\"dataframe\">\n",
              "  <thead>\n",
              "    <tr style=\"text-align: right;\">\n",
              "      <th></th>\n",
              "      <th>Order ID</th>\n",
              "      <th>Product</th>\n",
              "      <th>Quantity Ordered</th>\n",
              "      <th>Price Each</th>\n",
              "      <th>Order Date</th>\n",
              "      <th>Purchase Address</th>\n",
              "      <th>Month</th>\n",
              "    </tr>\n",
              "  </thead>\n",
              "  <tbody>\n",
              "    <tr>\n",
              "      <th>0</th>\n",
              "      <td>176558</td>\n",
              "      <td>USB-C Charging Cable</td>\n",
              "      <td>2</td>\n",
              "      <td>11.95</td>\n",
              "      <td>04/19/19 08:46</td>\n",
              "      <td>917 1st St, Dallas, TX 75001</td>\n",
              "      <td>4</td>\n",
              "    </tr>\n",
              "    <tr>\n",
              "      <th>2</th>\n",
              "      <td>176559</td>\n",
              "      <td>Bose SoundSport Headphones</td>\n",
              "      <td>1</td>\n",
              "      <td>99.99</td>\n",
              "      <td>04/07/19 22:30</td>\n",
              "      <td>682 Chestnut St, Boston, MA 02215</td>\n",
              "      <td>4</td>\n",
              "    </tr>\n",
              "    <tr>\n",
              "      <th>3</th>\n",
              "      <td>176560</td>\n",
              "      <td>Google Phone</td>\n",
              "      <td>1</td>\n",
              "      <td>600</td>\n",
              "      <td>04/12/19 14:38</td>\n",
              "      <td>669 Spruce St, Los Angeles, CA 90001</td>\n",
              "      <td>4</td>\n",
              "    </tr>\n",
              "    <tr>\n",
              "      <th>4</th>\n",
              "      <td>176560</td>\n",
              "      <td>Wired Headphones</td>\n",
              "      <td>1</td>\n",
              "      <td>11.99</td>\n",
              "      <td>04/12/19 14:38</td>\n",
              "      <td>669 Spruce St, Los Angeles, CA 90001</td>\n",
              "      <td>4</td>\n",
              "    </tr>\n",
              "    <tr>\n",
              "      <th>5</th>\n",
              "      <td>176561</td>\n",
              "      <td>Wired Headphones</td>\n",
              "      <td>1</td>\n",
              "      <td>11.99</td>\n",
              "      <td>04/30/19 09:27</td>\n",
              "      <td>333 8th St, Los Angeles, CA 90001</td>\n",
              "      <td>4</td>\n",
              "    </tr>\n",
              "  </tbody>\n",
              "</table>\n",
              "</div>"
            ],
            "text/plain": [
              "  Order ID  ... Month\n",
              "0   176558  ...     4\n",
              "2   176559  ...     4\n",
              "3   176560  ...     4\n",
              "4   176560  ...     4\n",
              "5   176561  ...     4\n",
              "\n",
              "[5 rows x 7 columns]"
            ]
          },
          "metadata": {
            "tags": []
          },
          "execution_count": 31
        }
      ]
    },
    {
      "cell_type": "code",
      "metadata": {
        "colab": {
          "base_uri": "https://localhost:8080/",
          "height": 204
        },
        "id": "SwthDoFYHH5x",
        "outputId": "e8a37825-2b8a-4ead-92b0-70097ea4c662"
      },
      "source": [
        "# menambah kolom sales\n",
        "all_data['Sales'] = all_data['Quantity Ordered'] * all_data['Price Each']\n",
        "all_data.head()"
      ],
      "execution_count": 37,
      "outputs": [
        {
          "output_type": "execute_result",
          "data": {
            "text/html": [
              "<div>\n",
              "<style scoped>\n",
              "    .dataframe tbody tr th:only-of-type {\n",
              "        vertical-align: middle;\n",
              "    }\n",
              "\n",
              "    .dataframe tbody tr th {\n",
              "        vertical-align: top;\n",
              "    }\n",
              "\n",
              "    .dataframe thead th {\n",
              "        text-align: right;\n",
              "    }\n",
              "</style>\n",
              "<table border=\"1\" class=\"dataframe\">\n",
              "  <thead>\n",
              "    <tr style=\"text-align: right;\">\n",
              "      <th></th>\n",
              "      <th>Order ID</th>\n",
              "      <th>Product</th>\n",
              "      <th>Quantity Ordered</th>\n",
              "      <th>Price Each</th>\n",
              "      <th>Order Date</th>\n",
              "      <th>Purchase Address</th>\n",
              "      <th>Month</th>\n",
              "      <th>Sales</th>\n",
              "    </tr>\n",
              "  </thead>\n",
              "  <tbody>\n",
              "    <tr>\n",
              "      <th>0</th>\n",
              "      <td>176558</td>\n",
              "      <td>USB-C Charging Cable</td>\n",
              "      <td>2</td>\n",
              "      <td>11.95</td>\n",
              "      <td>04/19/19 08:46</td>\n",
              "      <td>917 1st St, Dallas, TX 75001</td>\n",
              "      <td>4</td>\n",
              "      <td>23.90</td>\n",
              "    </tr>\n",
              "    <tr>\n",
              "      <th>2</th>\n",
              "      <td>176559</td>\n",
              "      <td>Bose SoundSport Headphones</td>\n",
              "      <td>1</td>\n",
              "      <td>99.99</td>\n",
              "      <td>04/07/19 22:30</td>\n",
              "      <td>682 Chestnut St, Boston, MA 02215</td>\n",
              "      <td>4</td>\n",
              "      <td>99.99</td>\n",
              "    </tr>\n",
              "    <tr>\n",
              "      <th>3</th>\n",
              "      <td>176560</td>\n",
              "      <td>Google Phone</td>\n",
              "      <td>1</td>\n",
              "      <td>600.00</td>\n",
              "      <td>04/12/19 14:38</td>\n",
              "      <td>669 Spruce St, Los Angeles, CA 90001</td>\n",
              "      <td>4</td>\n",
              "      <td>600.00</td>\n",
              "    </tr>\n",
              "    <tr>\n",
              "      <th>4</th>\n",
              "      <td>176560</td>\n",
              "      <td>Wired Headphones</td>\n",
              "      <td>1</td>\n",
              "      <td>11.99</td>\n",
              "      <td>04/12/19 14:38</td>\n",
              "      <td>669 Spruce St, Los Angeles, CA 90001</td>\n",
              "      <td>4</td>\n",
              "      <td>11.99</td>\n",
              "    </tr>\n",
              "    <tr>\n",
              "      <th>5</th>\n",
              "      <td>176561</td>\n",
              "      <td>Wired Headphones</td>\n",
              "      <td>1</td>\n",
              "      <td>11.99</td>\n",
              "      <td>04/30/19 09:27</td>\n",
              "      <td>333 8th St, Los Angeles, CA 90001</td>\n",
              "      <td>4</td>\n",
              "      <td>11.99</td>\n",
              "    </tr>\n",
              "  </tbody>\n",
              "</table>\n",
              "</div>"
            ],
            "text/plain": [
              "  Order ID                     Product  ...  Month   Sales\n",
              "0   176558        USB-C Charging Cable  ...      4   23.90\n",
              "2   176559  Bose SoundSport Headphones  ...      4   99.99\n",
              "3   176560                Google Phone  ...      4  600.00\n",
              "4   176560            Wired Headphones  ...      4   11.99\n",
              "5   176561            Wired Headphones  ...      4   11.99\n",
              "\n",
              "[5 rows x 8 columns]"
            ]
          },
          "metadata": {
            "tags": []
          },
          "execution_count": 37
        }
      ]
    },
    {
      "cell_type": "code",
      "metadata": {
        "colab": {
          "base_uri": "https://localhost:8080/",
          "height": 204
        },
        "id": "0T8MsSw7PFFE",
        "outputId": "ebaae9fe-3995-4497-8b60-4976ededee8f"
      },
      "source": [
        "# menambah kolom city menggunakan .apply()\n",
        "def get_city(address):\n",
        "  return address.split(',')[1]\n",
        "\n",
        "def get_state(address):\n",
        "  return address.split(',')[2].split(' ')[1]\n",
        "\n",
        "all_data['City'] = all_data['Purchase Address'].apply(lambda x : f\"{get_city(x)} ({get_state(x)})\")\n",
        "# all_data = all_data.drop(columns='Column')\n",
        "all_data.head()"
      ],
      "execution_count": 73,
      "outputs": [
        {
          "output_type": "execute_result",
          "data": {
            "text/html": [
              "<div>\n",
              "<style scoped>\n",
              "    .dataframe tbody tr th:only-of-type {\n",
              "        vertical-align: middle;\n",
              "    }\n",
              "\n",
              "    .dataframe tbody tr th {\n",
              "        vertical-align: top;\n",
              "    }\n",
              "\n",
              "    .dataframe thead th {\n",
              "        text-align: right;\n",
              "    }\n",
              "</style>\n",
              "<table border=\"1\" class=\"dataframe\">\n",
              "  <thead>\n",
              "    <tr style=\"text-align: right;\">\n",
              "      <th></th>\n",
              "      <th>Order ID</th>\n",
              "      <th>Product</th>\n",
              "      <th>Quantity Ordered</th>\n",
              "      <th>Price Each</th>\n",
              "      <th>Order Date</th>\n",
              "      <th>Purchase Address</th>\n",
              "      <th>Month</th>\n",
              "      <th>Sales</th>\n",
              "      <th>City</th>\n",
              "    </tr>\n",
              "  </thead>\n",
              "  <tbody>\n",
              "    <tr>\n",
              "      <th>0</th>\n",
              "      <td>176558</td>\n",
              "      <td>USB-C Charging Cable</td>\n",
              "      <td>2</td>\n",
              "      <td>11.95</td>\n",
              "      <td>04/19/19 08:46</td>\n",
              "      <td>917 1st St, Dallas, TX 75001</td>\n",
              "      <td>4</td>\n",
              "      <td>23.90</td>\n",
              "      <td>Dallas (TX)</td>\n",
              "    </tr>\n",
              "    <tr>\n",
              "      <th>2</th>\n",
              "      <td>176559</td>\n",
              "      <td>Bose SoundSport Headphones</td>\n",
              "      <td>1</td>\n",
              "      <td>99.99</td>\n",
              "      <td>04/07/19 22:30</td>\n",
              "      <td>682 Chestnut St, Boston, MA 02215</td>\n",
              "      <td>4</td>\n",
              "      <td>99.99</td>\n",
              "      <td>Boston (MA)</td>\n",
              "    </tr>\n",
              "    <tr>\n",
              "      <th>3</th>\n",
              "      <td>176560</td>\n",
              "      <td>Google Phone</td>\n",
              "      <td>1</td>\n",
              "      <td>600.00</td>\n",
              "      <td>04/12/19 14:38</td>\n",
              "      <td>669 Spruce St, Los Angeles, CA 90001</td>\n",
              "      <td>4</td>\n",
              "      <td>600.00</td>\n",
              "      <td>Los Angeles (CA)</td>\n",
              "    </tr>\n",
              "    <tr>\n",
              "      <th>4</th>\n",
              "      <td>176560</td>\n",
              "      <td>Wired Headphones</td>\n",
              "      <td>1</td>\n",
              "      <td>11.99</td>\n",
              "      <td>04/12/19 14:38</td>\n",
              "      <td>669 Spruce St, Los Angeles, CA 90001</td>\n",
              "      <td>4</td>\n",
              "      <td>11.99</td>\n",
              "      <td>Los Angeles (CA)</td>\n",
              "    </tr>\n",
              "    <tr>\n",
              "      <th>5</th>\n",
              "      <td>176561</td>\n",
              "      <td>Wired Headphones</td>\n",
              "      <td>1</td>\n",
              "      <td>11.99</td>\n",
              "      <td>04/30/19 09:27</td>\n",
              "      <td>333 8th St, Los Angeles, CA 90001</td>\n",
              "      <td>4</td>\n",
              "      <td>11.99</td>\n",
              "      <td>Los Angeles (CA)</td>\n",
              "    </tr>\n",
              "  </tbody>\n",
              "</table>\n",
              "</div>"
            ],
            "text/plain": [
              "  Order ID                     Product  ...   Sales               City\n",
              "0   176558        USB-C Charging Cable  ...   23.90        Dallas (TX)\n",
              "2   176559  Bose SoundSport Headphones  ...   99.99        Boston (MA)\n",
              "3   176560                Google Phone  ...  600.00   Los Angeles (CA)\n",
              "4   176560            Wired Headphones  ...   11.99   Los Angeles (CA)\n",
              "5   176561            Wired Headphones  ...   11.99   Los Angeles (CA)\n",
              "\n",
              "[5 rows x 9 columns]"
            ]
          },
          "metadata": {
            "tags": []
          },
          "execution_count": 73
        }
      ]
    },
    {
      "cell_type": "markdown",
      "metadata": {
        "id": "hHbl2lkVBUEt"
      },
      "source": [
        "Pertanyaan 1 : Penjualan bulan berapa yang tertinggi ? dan berapa banyak penghasilan yang diperoleh ? "
      ]
    },
    {
      "cell_type": "code",
      "metadata": {
        "id": "vSIAHy_9B3F7"
      },
      "source": [
        "results = all_data.groupby('Month').sum()"
      ],
      "execution_count": 54,
      "outputs": []
    },
    {
      "cell_type": "code",
      "metadata": {
        "colab": {
          "base_uri": "https://localhost:8080/",
          "height": 290
        },
        "id": "r60RM9GwJlo1",
        "outputId": "1552fdc6-0f60-458c-dfbc-283f5576a6e6"
      },
      "source": [
        "import matplotlib.pyplot as plt\n",
        "\n",
        "months = range(1,13)\n",
        "\n",
        "plt.bar(months, results['Sales'])\n",
        "plt.xticks(months)\n",
        "plt.grid()\n",
        "plt.ylabel('Sales (Million $)')\n",
        "plt.xlabel('Months')\n",
        "plt.show()"
      ],
      "execution_count": 64,
      "outputs": [
        {
          "output_type": "display_data",
          "data": {
            "image/png": "[encoded data removed]",
            "text/plain": [
              "<Figure size 432x288 with 1 Axes>"
            ]
          },
          "metadata": {
            "tags": [],
            "needs_background": "light"
          }
        }
      ]
    },
    {
      "cell_type": "markdown",
      "metadata": {
        "id": "_bGOY1DEOjqp"
      },
      "source": [
        "Pertanyaan 2 : Kota apa dengan penjualan tertinggi ?"
      ]
    },
    {
      "cell_type": "code",
      "metadata": {
        "colab": {
          "base_uri": "https://localhost:8080/",
          "height": 390
        },
        "id": "CvMy7s8HOwDG",
        "outputId": "eb695f05-c2b7-4b06-867a-a2c100855e6d"
      },
      "source": [
        "result = all_data.groupby('City').sum()\n",
        "result"
      ],
      "execution_count": 75,
      "outputs": [
        {
          "output_type": "execute_result",
          "data": {
            "text/html": [
              "<div>\n",
              "<style scoped>\n",
              "    .dataframe tbody tr th:only-of-type {\n",
              "        vertical-align: middle;\n",
              "    }\n",
              "\n",
              "    .dataframe tbody tr th {\n",
              "        vertical-align: top;\n",
              "    }\n",
              "\n",
              "    .dataframe thead th {\n",
              "        text-align: right;\n",
              "    }\n",
              "</style>\n",
              "<table border=\"1\" class=\"dataframe\">\n",
              "  <thead>\n",
              "    <tr style=\"text-align: right;\">\n",
              "      <th></th>\n",
              "      <th>Quantity Ordered</th>\n",
              "      <th>Price Each</th>\n",
              "      <th>Month</th>\n",
              "      <th>Sales</th>\n",
              "    </tr>\n",
              "    <tr>\n",
              "      <th>City</th>\n",
              "      <th></th>\n",
              "      <th></th>\n",
              "      <th></th>\n",
              "      <th></th>\n",
              "    </tr>\n",
              "  </thead>\n",
              "  <tbody>\n",
              "    <tr>\n",
              "      <th>Atlanta (GA)</th>\n",
              "      <td>16602</td>\n",
              "      <td>2.779908e+06</td>\n",
              "      <td>104794</td>\n",
              "      <td>2.795499e+06</td>\n",
              "    </tr>\n",
              "    <tr>\n",
              "      <th>Austin (TX)</th>\n",
              "      <td>11153</td>\n",
              "      <td>1.809874e+06</td>\n",
              "      <td>69829</td>\n",
              "      <td>1.819582e+06</td>\n",
              "    </tr>\n",
              "    <tr>\n",
              "      <th>Boston (MA)</th>\n",
              "      <td>22528</td>\n",
              "      <td>3.637410e+06</td>\n",
              "      <td>141112</td>\n",
              "      <td>3.661642e+06</td>\n",
              "    </tr>\n",
              "    <tr>\n",
              "      <th>Dallas (TX)</th>\n",
              "      <td>16730</td>\n",
              "      <td>2.752628e+06</td>\n",
              "      <td>104620</td>\n",
              "      <td>2.767975e+06</td>\n",
              "    </tr>\n",
              "    <tr>\n",
              "      <th>Los Angeles (CA)</th>\n",
              "      <td>33289</td>\n",
              "      <td>5.421435e+06</td>\n",
              "      <td>208325</td>\n",
              "      <td>5.452571e+06</td>\n",
              "    </tr>\n",
              "    <tr>\n",
              "      <th>New York City (NY)</th>\n",
              "      <td>27932</td>\n",
              "      <td>4.635371e+06</td>\n",
              "      <td>175741</td>\n",
              "      <td>4.664317e+06</td>\n",
              "    </tr>\n",
              "    <tr>\n",
              "      <th>Portland (ME)</th>\n",
              "      <td>2750</td>\n",
              "      <td>4.471893e+05</td>\n",
              "      <td>17144</td>\n",
              "      <td>4.497583e+05</td>\n",
              "    </tr>\n",
              "    <tr>\n",
              "      <th>Portland (OR)</th>\n",
              "      <td>11303</td>\n",
              "      <td>1.860558e+06</td>\n",
              "      <td>70621</td>\n",
              "      <td>1.870732e+06</td>\n",
              "    </tr>\n",
              "    <tr>\n",
              "      <th>San Francisco (CA)</th>\n",
              "      <td>50239</td>\n",
              "      <td>8.211462e+06</td>\n",
              "      <td>315520</td>\n",
              "      <td>8.262204e+06</td>\n",
              "    </tr>\n",
              "    <tr>\n",
              "      <th>Seattle (WA)</th>\n",
              "      <td>16553</td>\n",
              "      <td>2.733296e+06</td>\n",
              "      <td>104941</td>\n",
              "      <td>2.747755e+06</td>\n",
              "    </tr>\n",
              "  </tbody>\n",
              "</table>\n",
              "</div>"
            ],
            "text/plain": [
              "                     Quantity Ordered    Price Each   Month         Sales\n",
              "City                                                                     \n",
              " Atlanta (GA)                   16602  2.779908e+06  104794  2.795499e+06\n",
              " Austin (TX)                    11153  1.809874e+06   69829  1.819582e+06\n",
              " Boston (MA)                    22528  3.637410e+06  141112  3.661642e+06\n",
              " Dallas (TX)                    16730  2.752628e+06  104620  2.767975e+06\n",
              " Los Angeles (CA)               33289  5.421435e+06  208325  5.452571e+06\n",
              " New York City (NY)             27932  4.635371e+06  175741  4.664317e+06\n",
              " Portland (ME)                   2750  4.471893e+05   17144  4.497583e+05\n",
              " Portland (OR)                  11303  1.860558e+06   70621  1.870732e+06\n",
              " San Francisco (CA)             50239  8.211462e+06  315520  8.262204e+06\n",
              " Seattle (WA)                   16553  2.733296e+06  104941  2.747755e+06"
            ]
          },
          "metadata": {
            "tags": []
          },
          "execution_count": 75
        }
      ]
    },
    {
      "cell_type": "code",
      "metadata": {
        "colab": {
          "base_uri": "https://localhost:8080/",
          "height": 348
        },
        "id": "Kwm2qs9NTvA3",
        "outputId": "a938ba35-827b-4ff4-b7f5-c894a6290ef0"
      },
      "source": [
        "cities = [city for city, df in all_data.groupby('City')] #all_data['City'].unique()\n",
        "\n",
        "plt.bar(cities, result['Sales'])\n",
        "plt.xticks(cities, rotation='90', size=7)\n",
        "plt.ylabel('Sales (Million $)')\n",
        "plt.xlabel('City')\n",
        "plt.show()"
      ],
      "execution_count": 85,
      "outputs": [
        {
          "output_type": "display_data",
          "data": {
            "image/png": "[encoded data removed]",
            "text/plain": [
              "<Figure size 432x288 with 1 Axes>"
            ]
          },
          "metadata": {
            "tags": [],
            "needs_background": "light"
          }
        }
      ]
    },
    {
      "cell_type": "markdown",
      "metadata": {
        "id": "h61wXd2uV9Jp"
      },
      "source": [
        "Pertanyaan 3 :Jam berapa kita harus menampilkan iklan untuk memaksimalkan kemungkinan pelanggan membeli produk?"
      ]
    },
    {
      "cell_type": "code",
      "metadata": {
        "colab": {
          "base_uri": "https://localhost:8080/",
          "height": 204
        },
        "id": "5K2undzkWCXY",
        "outputId": "9767954f-874f-47c0-8083-11201b03ff10"
      },
      "source": [
        "# merubah order date ke datetime\n",
        "all_data['Order Date'] = pd.to_datetime(all_data['Order Date'])\n",
        "all_data.head()"
      ],
      "execution_count": 87,
      "outputs": [
        {
          "output_type": "execute_result",
          "data": {
            "text/html": [
              "<div>\n",
              "<style scoped>\n",
              "    .dataframe tbody tr th:only-of-type {\n",
              "        vertical-align: middle;\n",
              "    }\n",
              "\n",
              "    .dataframe tbody tr th {\n",
              "        vertical-align: top;\n",
              "    }\n",
              "\n",
              "    .dataframe thead th {\n",
              "        text-align: right;\n",
              "    }\n",
              "</style>\n",
              "<table border=\"1\" class=\"dataframe\">\n",
              "  <thead>\n",
              "    <tr style=\"text-align: right;\">\n",
              "      <th></th>\n",
              "      <th>Order ID</th>\n",
              "      <th>Product</th>\n",
              "      <th>Quantity Ordered</th>\n",
              "      <th>Price Each</th>\n",
              "      <th>Order Date</th>\n",
              "      <th>Purchase Address</th>\n",
              "      <th>Month</th>\n",
              "      <th>Sales</th>\n",
              "      <th>City</th>\n",
              "    </tr>\n",
              "  </thead>\n",
              "  <tbody>\n",
              "    <tr>\n",
              "      <th>0</th>\n",
              "      <td>176558</td>\n",
              "      <td>USB-C Charging Cable</td>\n",
              "      <td>2</td>\n",
              "      <td>11.95</td>\n",
              "      <td>2019-04-19 08:46:00</td>\n",
              "      <td>917 1st St, Dallas, TX 75001</td>\n",
              "      <td>4</td>\n",
              "      <td>23.90</td>\n",
              "      <td>Dallas (TX)</td>\n",
              "    </tr>\n",
              "    <tr>\n",
              "      <th>2</th>\n",
              "      <td>176559</td>\n",
              "      <td>Bose SoundSport Headphones</td>\n",
              "      <td>1</td>\n",
              "      <td>99.99</td>\n",
              "      <td>2019-04-07 22:30:00</td>\n",
              "      <td>682 Chestnut St, Boston, MA 02215</td>\n",
              "      <td>4</td>\n",
              "      <td>99.99</td>\n",
              "      <td>Boston (MA)</td>\n",
              "    </tr>\n",
              "    <tr>\n",
              "      <th>3</th>\n",
              "      <td>176560</td>\n",
              "      <td>Google Phone</td>\n",
              "      <td>1</td>\n",
              "      <td>600.00</td>\n",
              "      <td>2019-04-12 14:38:00</td>\n",
              "      <td>669 Spruce St, Los Angeles, CA 90001</td>\n",
              "      <td>4</td>\n",
              "      <td>600.00</td>\n",
              "      <td>Los Angeles (CA)</td>\n",
              "    </tr>\n",
              "    <tr>\n",
              "      <th>4</th>\n",
              "      <td>176560</td>\n",
              "      <td>Wired Headphones</td>\n",
              "      <td>1</td>\n",
              "      <td>11.99</td>\n",
              "      <td>2019-04-12 14:38:00</td>\n",
              "      <td>669 Spruce St, Los Angeles, CA 90001</td>\n",
              "      <td>4</td>\n",
              "      <td>11.99</td>\n",
              "      <td>Los Angeles (CA)</td>\n",
              "    </tr>\n",
              "    <tr>\n",
              "      <th>5</th>\n",
              "      <td>176561</td>\n",
              "      <td>Wired Headphones</td>\n",
              "      <td>1</td>\n",
              "      <td>11.99</td>\n",
              "      <td>2019-04-30 09:27:00</td>\n",
              "      <td>333 8th St, Los Angeles, CA 90001</td>\n",
              "      <td>4</td>\n",
              "      <td>11.99</td>\n",
              "      <td>Los Angeles (CA)</td>\n",
              "    </tr>\n",
              "  </tbody>\n",
              "</table>\n",
              "</div>"
            ],
            "text/plain": [
              "  Order ID                     Product  ...   Sales               City\n",
              "0   176558        USB-C Charging Cable  ...   23.90        Dallas (TX)\n",
              "2   176559  Bose SoundSport Headphones  ...   99.99        Boston (MA)\n",
              "3   176560                Google Phone  ...  600.00   Los Angeles (CA)\n",
              "4   176560            Wired Headphones  ...   11.99   Los Angeles (CA)\n",
              "5   176561            Wired Headphones  ...   11.99   Los Angeles (CA)\n",
              "\n",
              "[5 rows x 9 columns]"
            ]
          },
          "metadata": {
            "tags": []
          },
          "execution_count": 87
        }
      ]
    },
    {
      "cell_type": "code",
      "metadata": {
        "colab": {
          "base_uri": "https://localhost:8080/",
          "height": 306
        },
        "id": "6wkggfGvXEL_",
        "outputId": "e9f514f0-1a77-49a0-f89c-1ec49999382d"
      },
      "source": [
        "all_data['Hour'] = all_data['Order Date'].dt.hour\n",
        "all_data['Minute'] = all_data['Order Date'].dt.minute\n",
        "all_data.head()"
      ],
      "execution_count": 89,
      "outputs": [
        {
          "output_type": "execute_result",
          "data": {
            "text/html": [
              "<div>\n",
              "<style scoped>\n",
              "    .dataframe tbody tr th:only-of-type {\n",
              "        vertical-align: middle;\n",
              "    }\n",
              "\n",
              "    .dataframe tbody tr th {\n",
              "        vertical-align: top;\n",
              "    }\n",
              "\n",
              "    .dataframe thead th {\n",
              "        text-align: right;\n",
              "    }\n",
              "</style>\n",
              "<table border=\"1\" class=\"dataframe\">\n",
              "  <thead>\n",
              "    <tr style=\"text-align: right;\">\n",
              "      <th></th>\n",
              "      <th>Order ID</th>\n",
              "      <th>Product</th>\n",
              "      <th>Quantity Ordered</th>\n",
              "      <th>Price Each</th>\n",
              "      <th>Order Date</th>\n",
              "      <th>Purchase Address</th>\n",
              "      <th>Month</th>\n",
              "      <th>Sales</th>\n",
              "      <th>City</th>\n",
              "      <th>Hour</th>\n",
              "      <th>Minute</th>\n",
              "    </tr>\n",
              "  </thead>\n",
              "  <tbody>\n",
              "    <tr>\n",
              "      <th>0</th>\n",
              "      <td>176558</td>\n",
              "      <td>USB-C Charging Cable</td>\n",
              "      <td>2</td>\n",
              "      <td>11.95</td>\n",
              "      <td>2019-04-19 08:46:00</td>\n",
              "      <td>917 1st St, Dallas, TX 75001</td>\n",
              "      <td>4</td>\n",
              "      <td>23.90</td>\n",
              "      <td>Dallas (TX)</td>\n",
              "      <td>8</td>\n",
              "      <td>46</td>\n",
              "    </tr>\n",
              "    <tr>\n",
              "      <th>2</th>\n",
              "      <td>176559</td>\n",
              "      <td>Bose SoundSport Headphones</td>\n",
              "      <td>1</td>\n",
              "      <td>99.99</td>\n",
              "      <td>2019-04-07 22:30:00</td>\n",
              "      <td>682 Chestnut St, Boston, MA 02215</td>\n",
              "      <td>4</td>\n",
              "      <td>99.99</td>\n",
              "      <td>Boston (MA)</td>\n",
              "      <td>22</td>\n",
              "      <td>30</td>\n",
              "    </tr>\n",
              "    <tr>\n",
              "      <th>3</th>\n",
              "      <td>176560</td>\n",
              "      <td>Google Phone</td>\n",
              "      <td>1</td>\n",
              "      <td>600.00</td>\n",
              "      <td>2019-04-12 14:38:00</td>\n",
              "      <td>669 Spruce St, Los Angeles, CA 90001</td>\n",
              "      <td>4</td>\n",
              "      <td>600.00</td>\n",
              "      <td>Los Angeles (CA)</td>\n",
              "      <td>14</td>\n",
              "      <td>38</td>\n",
              "    </tr>\n",
              "    <tr>\n",
              "      <th>4</th>\n",
              "      <td>176560</td>\n",
              "      <td>Wired Headphones</td>\n",
              "      <td>1</td>\n",
              "      <td>11.99</td>\n",
              "      <td>2019-04-12 14:38:00</td>\n",
              "      <td>669 Spruce St, Los Angeles, CA 90001</td>\n",
              "      <td>4</td>\n",
              "      <td>11.99</td>\n",
              "      <td>Los Angeles (CA)</td>\n",
              "      <td>14</td>\n",
              "      <td>38</td>\n",
              "    </tr>\n",
              "    <tr>\n",
              "      <th>5</th>\n",
              "      <td>176561</td>\n",
              "      <td>Wired Headphones</td>\n",
              "      <td>1</td>\n",
              "      <td>11.99</td>\n",
              "      <td>2019-04-30 09:27:00</td>\n",
              "      <td>333 8th St, Los Angeles, CA 90001</td>\n",
              "      <td>4</td>\n",
              "      <td>11.99</td>\n",
              "      <td>Los Angeles (CA)</td>\n",
              "      <td>9</td>\n",
              "      <td>27</td>\n",
              "    </tr>\n",
              "  </tbody>\n",
              "</table>\n",
              "</div>"
            ],
            "text/plain": [
              "  Order ID                     Product  ...  Hour  Minute\n",
              "0   176558        USB-C Charging Cable  ...     8      46\n",
              "2   176559  Bose SoundSport Headphones  ...    22      30\n",
              "3   176560                Google Phone  ...    14      38\n",
              "4   176560            Wired Headphones  ...    14      38\n",
              "5   176561            Wired Headphones  ...     9      27\n",
              "\n",
              "[5 rows x 11 columns]"
            ]
          },
          "metadata": {
            "tags": []
          },
          "execution_count": 89
        }
      ]
    },
    {
      "cell_type": "code",
      "metadata": {
        "colab": {
          "base_uri": "https://localhost:8080/",
          "height": 279
        },
        "id": "ftC4rpBcXiC0",
        "outputId": "95f17f0b-6130-4062-ee3a-d0668b403ef2"
      },
      "source": [
        "hours = [hour for hour, df in all_data.groupby('Hour')]\n",
        "\n",
        "plt.plot(hours, all_data.groupby(['Hour']).count())\n",
        "plt.xticks(hours)\n",
        "plt.xlabel('Hours')\n",
        "plt.ylabel('Number of Orders')\n",
        "plt.grid()\n",
        "plt.show()"
      ],
      "execution_count": 95,
      "outputs": [
        {
          "output_type": "display_data",
          "data": {
            "image/png": "[encoded data removed]",
            "text/plain": [
              "<Figure size 432x288 with 1 Axes>"
            ]
          },
          "metadata": {
            "tags": [],
            "needs_background": "light"
          }
        }
      ]
    },
    {
      "cell_type": "markdown",
      "metadata": {
        "id": "o3bs1YqJZQod"
      },
      "source": [
        "Pertanyaan 4 : Produk apa yang paling sering dijual bersama ?"
      ]
    },
    {
      "cell_type": "code",
      "metadata": {
        "colab": {
          "base_uri": "https://localhost:8080/",
          "height": 306
        },
        "id": "x184IG5mZdyR",
        "outputId": "ed9261d5-2bb8-4cf1-a531-458d3ed76531"
      },
      "source": [
        "df = all_data[all_data['Order ID'].duplicated(keep=False)]\n",
        "\n",
        "df['Gruoped'] = df.groupby('Order ID')['Product'].transform(lambda x: ','.join(x))\n",
        "\n",
        "\n",
        "df = df[['Order ID', 'Gruoped']].drop_duplicates()\n",
        "\n",
        "df.head()"
      ],
      "execution_count": 101,
      "outputs": [
        {
          "output_type": "stream",
          "text": [
            "/usr/local/lib/python3.7/dist-packages/ipykernel_launcher.py:3: SettingWithCopyWarning: \n",
            "A value is trying to be set on a copy of a slice from a DataFrame.\n",
            "Try using .loc[row_indexer,col_indexer] = value instead\n",
            "\n",
            "See the caveats in the documentation: https://pandas.pydata.org/pandas-docs/stable/user_guide/indexing.html#returning-a-view-versus-a-copy\n",
            "  This is separate from the ipykernel package so we can avoid doing imports until\n"
          ],
          "name": "stderr"
        },
        {
          "output_type": "execute_result",
          "data": {
            "text/html": [
              "<div>\n",
              "<style scoped>\n",
              "    .dataframe tbody tr th:only-of-type {\n",
              "        vertical-align: middle;\n",
              "    }\n",
              "\n",
              "    .dataframe tbody tr th {\n",
              "        vertical-align: top;\n",
              "    }\n",
              "\n",
              "    .dataframe thead th {\n",
              "        text-align: right;\n",
              "    }\n",
              "</style>\n",
              "<table border=\"1\" class=\"dataframe\">\n",
              "  <thead>\n",
              "    <tr style=\"text-align: right;\">\n",
              "      <th></th>\n",
              "      <th>Order ID</th>\n",
              "      <th>Gruoped</th>\n",
              "    </tr>\n",
              "  </thead>\n",
              "  <tbody>\n",
              "    <tr>\n",
              "      <th>3</th>\n",
              "      <td>176560</td>\n",
              "      <td>Google Phone,Wired Headphones</td>\n",
              "    </tr>\n",
              "    <tr>\n",
              "      <th>18</th>\n",
              "      <td>176574</td>\n",
              "      <td>Google Phone,USB-C Charging Cable</td>\n",
              "    </tr>\n",
              "    <tr>\n",
              "      <th>30</th>\n",
              "      <td>176585</td>\n",
              "      <td>Bose SoundSport Headphones,Bose SoundSport Hea...</td>\n",
              "    </tr>\n",
              "    <tr>\n",
              "      <th>32</th>\n",
              "      <td>176586</td>\n",
              "      <td>AAA Batteries (4-pack),Google Phone</td>\n",
              "    </tr>\n",
              "    <tr>\n",
              "      <th>119</th>\n",
              "      <td>176672</td>\n",
              "      <td>Lightning Charging Cable,USB-C Charging Cable</td>\n",
              "    </tr>\n",
              "  </tbody>\n",
              "</table>\n",
              "</div>"
            ],
            "text/plain": [
              "    Order ID                                            Gruoped\n",
              "3     176560                      Google Phone,Wired Headphones\n",
              "18    176574                  Google Phone,USB-C Charging Cable\n",
              "30    176585  Bose SoundSport Headphones,Bose SoundSport Hea...\n",
              "32    176586                AAA Batteries (4-pack),Google Phone\n",
              "119   176672      Lightning Charging Cable,USB-C Charging Cable"
            ]
          },
          "metadata": {
            "tags": []
          },
          "execution_count": 101
        }
      ]
    },
    {
      "cell_type": "code",
      "metadata": {
        "colab": {
          "base_uri": "https://localhost:8080/"
        },
        "id": "-XQsb_lVcWqP",
        "outputId": "8c28fc0b-3405-4b7f-f3c9-1bb74875fa92"
      },
      "source": [
        "from itertools import combinations\n",
        "from collections import Counter\n",
        "\n",
        "count = Counter()\n",
        "\n",
        "for row in df['Gruoped']:\n",
        "  row_list = row.split(',')\n",
        "  count.update(Counter(combinations(row_list,2)))\n",
        "\n",
        "for key, value in count.most_common(10):\n",
        "  print(key, value)"
      ],
      "execution_count": 112,
      "outputs": [
        {
          "output_type": "stream",
          "text": [
            "('iPhone', 'Lightning Charging Cable') 1005\n",
            "('Google Phone', 'USB-C Charging Cable') 987\n",
            "('iPhone', 'Wired Headphones') 447\n",
            "('Google Phone', 'Wired Headphones') 414\n",
            "('Vareebadd Phone', 'USB-C Charging Cable') 361\n",
            "('iPhone', 'Apple Airpods Headphones') 360\n",
            "('Google Phone', 'Bose SoundSport Headphones') 220\n",
            "('USB-C Charging Cable', 'Wired Headphones') 160\n",
            "('Vareebadd Phone', 'Wired Headphones') 143\n",
            "('Lightning Charging Cable', 'Wired Headphones') 92\n"
          ],
          "name": "stdout"
        }
      ]
    },
    {
      "cell_type": "markdown",
      "metadata": {
        "id": "dN8a7F7JeDtg"
      },
      "source": [
        "Pertanyaan 5 : Produk apa yang paling banyak terjual? mengapa menurut Anda itu paling laris?"
      ]
    },
    {
      "cell_type": "code",
      "metadata": {
        "colab": {
          "base_uri": "https://localhost:8080/",
          "height": 306
        },
        "id": "O-bQw-BueRoy",
        "outputId": "2417f943-5554-4cc7-cf4b-ac6e39ee373e"
      },
      "source": [
        "all_data.head()"
      ],
      "execution_count": 113,
      "outputs": [
        {
          "output_type": "execute_result",
          "data": {
            "text/html": [
              "<div>\n",
              "<style scoped>\n",
              "    .dataframe tbody tr th:only-of-type {\n",
              "        vertical-align: middle;\n",
              "    }\n",
              "\n",
              "    .dataframe tbody tr th {\n",
              "        vertical-align: top;\n",
              "    }\n",
              "\n",
              "    .dataframe thead th {\n",
              "        text-align: right;\n",
              "    }\n",
              "</style>\n",
              "<table border=\"1\" class=\"dataframe\">\n",
              "  <thead>\n",
              "    <tr style=\"text-align: right;\">\n",
              "      <th></th>\n",
              "      <th>Order ID</th>\n",
              "      <th>Product</th>\n",
              "      <th>Quantity Ordered</th>\n",
              "      <th>Price Each</th>\n",
              "      <th>Order Date</th>\n",
              "      <th>Purchase Address</th>\n",
              "      <th>Month</th>\n",
              "      <th>Sales</th>\n",
              "      <th>City</th>\n",
              "      <th>Hour</th>\n",
              "      <th>Minute</th>\n",
              "    </tr>\n",
              "  </thead>\n",
              "  <tbody>\n",
              "    <tr>\n",
              "      <th>0</th>\n",
              "      <td>176558</td>\n",
              "      <td>USB-C Charging Cable</td>\n",
              "      <td>2</td>\n",
              "      <td>11.95</td>\n",
              "      <td>2019-04-19 08:46:00</td>\n",
              "      <td>917 1st St, Dallas, TX 75001</td>\n",
              "      <td>4</td>\n",
              "      <td>23.90</td>\n",
              "      <td>Dallas (TX)</td>\n",
              "      <td>8</td>\n",
              "      <td>46</td>\n",
              "    </tr>\n",
              "    <tr>\n",
              "      <th>2</th>\n",
              "      <td>176559</td>\n",
              "      <td>Bose SoundSport Headphones</td>\n",
              "      <td>1</td>\n",
              "      <td>99.99</td>\n",
              "      <td>2019-04-07 22:30:00</td>\n",
              "      <td>682 Chestnut St, Boston, MA 02215</td>\n",
              "      <td>4</td>\n",
              "      <td>99.99</td>\n",
              "      <td>Boston (MA)</td>\n",
              "      <td>22</td>\n",
              "      <td>30</td>\n",
              "    </tr>\n",
              "    <tr>\n",
              "      <th>3</th>\n",
              "      <td>176560</td>\n",
              "      <td>Google Phone</td>\n",
              "      <td>1</td>\n",
              "      <td>600.00</td>\n",
              "      <td>2019-04-12 14:38:00</td>\n",
              "      <td>669 Spruce St, Los Angeles, CA 90001</td>\n",
              "      <td>4</td>\n",
              "      <td>600.00</td>\n",
              "      <td>Los Angeles (CA)</td>\n",
              "      <td>14</td>\n",
              "      <td>38</td>\n",
              "    </tr>\n",
              "    <tr>\n",
              "      <th>4</th>\n",
              "      <td>176560</td>\n",
              "      <td>Wired Headphones</td>\n",
              "      <td>1</td>\n",
              "      <td>11.99</td>\n",
              "      <td>2019-04-12 14:38:00</td>\n",
              "      <td>669 Spruce St, Los Angeles, CA 90001</td>\n",
              "      <td>4</td>\n",
              "      <td>11.99</td>\n",
              "      <td>Los Angeles (CA)</td>\n",
              "      <td>14</td>\n",
              "      <td>38</td>\n",
              "    </tr>\n",
              "    <tr>\n",
              "      <th>5</th>\n",
              "      <td>176561</td>\n",
              "      <td>Wired Headphones</td>\n",
              "      <td>1</td>\n",
              "      <td>11.99</td>\n",
              "      <td>2019-04-30 09:27:00</td>\n",
              "      <td>333 8th St, Los Angeles, CA 90001</td>\n",
              "      <td>4</td>\n",
              "      <td>11.99</td>\n",
              "      <td>Los Angeles (CA)</td>\n",
              "      <td>9</td>\n",
              "      <td>27</td>\n",
              "    </tr>\n",
              "  </tbody>\n",
              "</table>\n",
              "</div>"
            ],
            "text/plain": [
              "  Order ID                     Product  ...  Hour  Minute\n",
              "0   176558        USB-C Charging Cable  ...     8      46\n",
              "2   176559  Bose SoundSport Headphones  ...    22      30\n",
              "3   176560                Google Phone  ...    14      38\n",
              "4   176560            Wired Headphones  ...    14      38\n",
              "5   176561            Wired Headphones  ...     9      27\n",
              "\n",
              "[5 rows x 11 columns]"
            ]
          },
          "metadata": {
            "tags": []
          },
          "execution_count": 113
        }
      ]
    },
    {
      "cell_type": "code",
      "metadata": {
        "colab": {
          "base_uri": "https://localhost:8080/",
          "height": 375
        },
        "id": "62ZeQeVFea8a",
        "outputId": "3e20ab46-fb80-4c0d-8492-e8544997b75c"
      },
      "source": [
        "product_group = all_data.groupby('Product')\n",
        "quantity_ordered = product_group.sum()['Quantity Ordered']\n",
        "\n",
        "products = [product for product, df in product_group]\n",
        "\n",
        "plt.bar(products, quantity_ordered)\n",
        "plt.ylabel('Quantity Order')\n",
        "plt.xlabel('Products')\n",
        "plt.xticks(products, rotation='vertical', size=7)\n",
        "plt.show()"
      ],
      "execution_count": 120,
      "outputs": [
        {
          "output_type": "display_data",
          "data": {
            "image/png": "[encoded data removed]",
            "text/plain": [
              "<Figure size 432x288 with 1 Axes>"
            ]
          },
          "metadata": {
            "tags": [],
            "needs_background": "light"
          }
        }
      ]
    },
    {
      "cell_type": "code",
      "metadata": {
        "colab": {
          "base_uri": "https://localhost:8080/",
          "height": 375
        },
        "id": "08IQ0clygarz",
        "outputId": "a9d08a1c-da89-46ee-9dea-327b3842ee3e"
      },
      "source": [
        "prices = all_data.groupby('Product').mean()['Price Each']\n",
        "\n",
        "fig, ax1 = plt.subplots()\n",
        "\n",
        "ax2 = ax1.twinx()\n",
        "ax1.bar(products, quantity_ordered, color='g')\n",
        "ax2.plot(products, prices, 'b-')\n",
        "\n",
        "ax1.set_xlabel('Product Names')\n",
        "ax1.set_ylabel('Quantity Ordered', color='g')\n",
        "ax2.set_ylabel('Price ($)', color='b')\n",
        "ax1.set_xticklabels(products, rotation='vertical', size =7)\n",
        "\n",
        "plt.show()"
      ],
      "execution_count": 125,
      "outputs": [
        {
          "output_type": "display_data",
          "data": {
            "image/png": "[encoded data removed]",
            "text/plain": [
              "<Figure size 432x288 with 2 Axes>"
            ]
          },
          "metadata": {
            "tags": [],
            "needs_background": "light"
          }
        }
      ]
    }
  ]
}