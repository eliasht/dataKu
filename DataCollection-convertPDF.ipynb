{
  "nbformat": 4,
  "nbformat_minor": 0,
  "metadata": {
    "colab": {
      "name": "convertPDF.ipynb",
      "provenance": [],
      "authorship_tag": "ABX9TyPz5+Nc/Wmxj8l/1KZGMh8v",
      "include_colab_link": true
    },
    "kernelspec": {
      "name": "python3",
      "display_name": "Python 3"
    },
    "language_info": {
      "name": "python"
    }
  },
  "cells": [
    {
      "cell_type": "markdown",
      "metadata": {
        "id": "view-in-github",
        "colab_type": "text"
      },
      "source": [
        "<a href=\"https://colab.research.google.com/github/eliasht/dataKu/blob/main/DataCollection-convertPDF.ipynb\" target=\"_parent\"><img src=\"https://colab.research.google.com/assets/colab-badge.svg\" alt=\"Open In Colab\"/></a>"
      ]
    },
    {
      "cell_type": "markdown",
      "metadata": {
        "id": "7goEjwJdHHLR"
      },
      "source": [
        "Dalam notebook ini anda akan mempelajari cara mengkoneksikan google colab dengan google drive dan juga cara conver file PDF ke csv, xlsx dan docx. Dataset dapat diakses melalui : https://drive.google.com/file/d/1KCh4UayNgR5y8277Bx2T28jKWQ2JOoK4/view?usp=sharing"
      ]
    },
    {
      "cell_type": "code",
      "metadata": {
        "colab": {
          "base_uri": "https://localhost:8080/"
        },
        "id": "PkzUcxOiHP17",
        "outputId": "168232db-66f1-4295-9acc-1ec5947a78f9"
      },
      "source": [
        "# Mengakses google drive ke dalam google colaboratory\n",
        "from google.colab import drive\n",
        "drive.mount('/content/gdrive')"
      ],
      "execution_count": 7,
      "outputs": [
        {
          "output_type": "stream",
          "text": [
            "Drive already mounted at /content/gdrive; to attempt to forcibly remount, call drive.mount(\"/content/gdrive\", force_remount=True).\n"
          ],
          "name": "stdout"
        }
      ]
    },
    {
      "cell_type": "code",
      "metadata": {
        "colab": {
          "base_uri": "https://localhost:8080/"
        },
        "id": "lQkuAUTSIpZB",
        "outputId": "3a889e27-5a91-44b4-9c21-1e16843dff61"
      },
      "source": [
        "# Install library tabula untuk convert pdf to excel (read tables in pdf into DataFrame)\n",
        "!pip install tabula-py"
      ],
      "execution_count": 8,
      "outputs": [
        {
          "output_type": "stream",
          "text": [
            "Collecting tabula-py\n",
            "\u001b[?25l  Downloading https://files.pythonhosted.org/packages/cf/29/d6cb0d77ef46d84d35cffa09cf42c73b373aea664d28604eab6818f8a47c/tabula_py-2.2.0-py3-none-any.whl (11.7MB)\n",
            "\u001b[K     |████████████████████████████████| 11.7MB 241kB/s \n",
            "\u001b[?25hCollecting distro\n",
            "  Downloading https://files.pythonhosted.org/packages/25/b7/b3c4270a11414cb22c6352ebc7a83aaa3712043be29daa05018fd5a5c956/distro-1.5.0-py2.py3-none-any.whl\n",
            "Requirement already satisfied: numpy in /usr/local/lib/python3.7/dist-packages (from tabula-py) (1.19.5)\n",
            "Requirement already satisfied: pandas>=0.25.3 in /usr/local/lib/python3.7/dist-packages (from tabula-py) (1.1.5)\n",
            "Requirement already satisfied: pytz>=2017.2 in /usr/local/lib/python3.7/dist-packages (from pandas>=0.25.3->tabula-py) (2018.9)\n",
            "Requirement already satisfied: python-dateutil>=2.7.3 in /usr/local/lib/python3.7/dist-packages (from pandas>=0.25.3->tabula-py) (2.8.1)\n",
            "Requirement already satisfied: six>=1.5 in /usr/local/lib/python3.7/dist-packages (from python-dateutil>=2.7.3->pandas>=0.25.3->tabula-py) (1.15.0)\n",
            "Installing collected packages: distro, tabula-py\n",
            "Successfully installed distro-1.5.0 tabula-py-2.2.0\n"
          ],
          "name": "stdout"
        }
      ]
    },
    {
      "cell_type": "code",
      "metadata": {
        "colab": {
          "base_uri": "https://localhost:8080/"
        },
        "id": "JgDF3LDIIvIK",
        "outputId": "8a85a926-09af-4750-fc80-44fcfa871c61"
      },
      "source": [
        "# Install library pdf2docx untuk convert pdf to document\n",
        "!pip install pdf2docx"
      ],
      "execution_count": 9,
      "outputs": [
        {
          "output_type": "stream",
          "text": [
            "Collecting pdf2docx\n",
            "\u001b[?25l  Downloading https://files.pythonhosted.org/packages/85/e4/e1a9240f8991ab6a9643db02ba2e8b04df515780d1ba99696f5e5799fb2e/pdf2docx-0.5.2-py3-none-any.whl (146kB)\n",
            "\u001b[K     |████████████████████████████████| 153kB 22.5MB/s \n",
            "\u001b[?25hCollecting python-docx>=0.8.10\n",
            "\u001b[?25l  Downloading https://files.pythonhosted.org/packages/8b/a0/52729ce4aa026f31b74cc877be1d11e4ddeaa361dc7aebec148171644b33/python-docx-0.8.11.tar.gz (5.6MB)\n",
            "\u001b[K     |████████████████████████████████| 5.6MB 31.3MB/s \n",
            "\u001b[?25hCollecting opencv-python>=4.5\n",
            "\u001b[?25l  Downloading https://files.pythonhosted.org/packages/6b/73/a8921d221a673600dc744033786eeab56ed5116686a1b932b724a33003c6/opencv_python-4.5.3.56-cp37-cp37m-manylinux2014_x86_64.whl (49.9MB)\n",
            "\u001b[K     |████████████████████████████████| 49.9MB 54kB/s \n",
            "\u001b[?25hCollecting PyMuPDF>=1.18.13\n",
            "\u001b[?25l  Downloading https://files.pythonhosted.org/packages/14/32/98d58e1405a14c7453a92bb37bc348294fb931bcab430aae4131ff24f6e4/PyMuPDF-1.18.15-cp37-cp37m-manylinux_2_12_x86_64.manylinux2010_x86_64.whl (6.4MB)\n",
            "\u001b[K     |████████████████████████████████| 6.4MB 40.5MB/s \n",
            "\u001b[?25hCollecting fonttools>=4.24.0\n",
            "\u001b[?25l  Downloading https://files.pythonhosted.org/packages/13/ff/43d2cb14eae8f8d6a508886a79d37ce97a4d74220e4540a800a00d94d219/fonttools-4.25.0-py3-none-any.whl (867kB)\n",
            "\u001b[K     |████████████████████████████████| 870kB 32.6MB/s \n",
            "\u001b[?25hCollecting fire>=0.3.0\n",
            "\u001b[?25l  Downloading https://files.pythonhosted.org/packages/11/07/a119a1aa04d37bc819940d95ed7e135a7dcca1c098123a3764a6dcace9e7/fire-0.4.0.tar.gz (87kB)\n",
            "\u001b[K     |████████████████████████████████| 92kB 9.6MB/s \n",
            "\u001b[?25hRequirement already satisfied: numpy>=1.17.2 in /usr/local/lib/python3.7/dist-packages (from pdf2docx) (1.19.5)\n",
            "Requirement already satisfied: lxml>=2.3.2 in /usr/local/lib/python3.7/dist-packages (from python-docx>=0.8.10->pdf2docx) (4.2.6)\n",
            "Requirement already satisfied: six in /usr/local/lib/python3.7/dist-packages (from fire>=0.3.0->pdf2docx) (1.15.0)\n",
            "Requirement already satisfied: termcolor in /usr/local/lib/python3.7/dist-packages (from fire>=0.3.0->pdf2docx) (1.1.0)\n",
            "Building wheels for collected packages: python-docx, fire\n",
            "  Building wheel for python-docx (setup.py) ... \u001b[?25l\u001b[?25hdone\n",
            "  Created wheel for python-docx: filename=python_docx-0.8.11-cp37-none-any.whl size=184508 sha256=53cc718dc8b18a58d40424df7517878ede5efbde9b4016ecd61e21f93f72e21f\n",
            "  Stored in directory: /root/.cache/pip/wheels/a6/90/f1/a7cb70b38633ae04e7fb963b1c70f63fd6fc01c075b8230adc\n",
            "  Building wheel for fire (setup.py) ... \u001b[?25l\u001b[?25hdone\n",
            "  Created wheel for fire: filename=fire-0.4.0-py2.py3-none-any.whl size=115943 sha256=f14312bfe4f8cef5e016a2840578ed6befb4b8a5d4350cf1ecca0a8e3d384026\n",
            "  Stored in directory: /root/.cache/pip/wheels/af/19/30/1ea0cad502dcb4e66ed5a690279628c827aea38bbbab75d5ed\n",
            "Successfully built python-docx fire\n",
            "\u001b[31mERROR: albumentations 0.1.12 has requirement imgaug<0.2.7,>=0.2.5, but you'll have imgaug 0.2.9 which is incompatible.\u001b[0m\n",
            "Installing collected packages: python-docx, opencv-python, PyMuPDF, fonttools, fire, pdf2docx\n",
            "  Found existing installation: opencv-python 4.1.2.30\n",
            "    Uninstalling opencv-python-4.1.2.30:\n",
            "      Successfully uninstalled opencv-python-4.1.2.30\n",
            "Successfully installed PyMuPDF-1.18.15 fire-0.4.0 fonttools-4.25.0 opencv-python-4.5.3.56 pdf2docx-0.5.2 python-docx-0.8.11\n"
          ],
          "name": "stdout"
        }
      ]
    },
    {
      "cell_type": "code",
      "metadata": {
        "id": "Vra_MRZrIA7n"
      },
      "source": [
        "# Import Packages/Library\n",
        "import os\n",
        "import tabula\n",
        "from pdf2docx import Converter"
      ],
      "execution_count": 10,
      "outputs": []
    },
    {
      "cell_type": "code",
      "metadata": {
        "id": "dTlcq_qOICnO"
      },
      "source": [
        "# Inisiasi directory tempat data akan dibaca dan disimpan\n",
        "path = \"gdrive/MyDrive/Data/\" #silahkan masukkan path sesuai dengan letak data di drive masing-masing"
      ],
      "execution_count": 11,
      "outputs": []
    },
    {
      "cell_type": "code",
      "metadata": {
        "colab": {
          "base_uri": "https://localhost:8080/"
        },
        "id": "fh8qEY9CIMwD",
        "outputId": "86e0ede1-2f25-4f08-8659-b8f467202e5a"
      },
      "source": [
        "os.listdir(path)"
      ],
      "execution_count": 5,
      "outputs": [
        {
          "output_type": "execute_result",
          "data": {
            "text/plain": [
              "['Provinsi Jawa Timur Dalam Angka 2020-pages-85.pdf']"
            ]
          },
          "metadata": {
            "tags": []
          },
          "execution_count": 5
        }
      ]
    },
    {
      "cell_type": "code",
      "metadata": {
        "colab": {
          "base_uri": "https://localhost:8080/"
        },
        "id": "5Q_KyAIYIOfT",
        "outputId": "29f2a767-01c2-4b4a-acff-e829e44c74dd"
      },
      "source": [
        "# Read PDf file\n",
        "df = tabula.read_pdf(path + 'Provinsi Jawa Timur Dalam Angka 2020-pages-85.pdf', pages = 1, lattice = True, multiple_tables=True)[0]"
      ],
      "execution_count": 12,
      "outputs": [
        {
          "output_type": "stream",
          "text": [
            "[WARNING] Got stderr: Jul 14, 2021 1:10:47 PM org.apache.pdfbox.pdmodel.font.FileSystemFontProvider loadDiskCache\n",
            "WARNING: New fonts found, font cache will be re-built\n",
            "Jul 14, 2021 1:10:47 PM org.apache.pdfbox.pdmodel.font.FileSystemFontProvider <init>\n",
            "WARNING: Building on-disk font cache, this may take a while\n",
            "Jul 14, 2021 1:10:48 PM org.apache.pdfbox.pdmodel.font.FileSystemFontProvider <init>\n",
            "WARNING: Finished building on-disk font cache, found 17 fonts\n",
            "Jul 14, 2021 1:10:48 PM org.apache.pdfbox.pdmodel.font.PDType1Font <init>\n",
            "WARNING: Using fallback font LiberationSans for base font Symbol\n",
            "Jul 14, 2021 1:10:48 PM org.apache.pdfbox.pdmodel.font.PDType1Font <init>\n",
            "WARNING: Using fallback font LiberationSans for base font ZapfDingbats\n",
            "\n"
          ],
          "name": "stderr"
        }
      ]
    },
    {
      "cell_type": "code",
      "metadata": {
        "colab": {
          "base_uri": "https://localhost:8080/",
          "height": 204
        },
        "id": "_Vs4duEiJF2N",
        "outputId": "ccec678d-d791-4bda-ee52-14281e5a70f4"
      },
      "source": [
        "df.head()"
      ],
      "execution_count": 13,
      "outputs": [
        {
          "output_type": "execute_result",
          "data": {
            "text/html": [
              "<div>\n",
              "<style scoped>\n",
              "    .dataframe tbody tr th:only-of-type {\n",
              "        vertical-align: middle;\n",
              "    }\n",
              "\n",
              "    .dataframe tbody tr th {\n",
              "        vertical-align: top;\n",
              "    }\n",
              "\n",
              "    .dataframe thead th {\n",
              "        text-align: right;\n",
              "    }\n",
              "</style>\n",
              "<table border=\"1\" class=\"dataframe\">\n",
              "  <thead>\n",
              "    <tr style=\"text-align: right;\">\n",
              "      <th></th>\n",
              "      <th>Kabupaten/Kota\\rRegency/Municipality</th>\n",
              "      <th>2018</th>\n",
              "      <th>Unnamed: 0</th>\n",
              "    </tr>\n",
              "  </thead>\n",
              "  <tbody>\n",
              "    <tr>\n",
              "      <th>0</th>\n",
              "      <td>NaN</td>\n",
              "      <td>Pendapatan\\rRevenues</td>\n",
              "      <td>Belanja\\rExpenditures</td>\n",
              "    </tr>\n",
              "    <tr>\n",
              "      <th>1</th>\n",
              "      <td>(1)</td>\n",
              "      <td>(2)</td>\n",
              "      <td>(3)</td>\n",
              "    </tr>\n",
              "    <tr>\n",
              "      <th>2</th>\n",
              "      <td>Kabupaten/Regency</td>\n",
              "      <td>NaN</td>\n",
              "      <td>NaN</td>\n",
              "    </tr>\n",
              "    <tr>\n",
              "      <th>3</th>\n",
              "      <td>Pacitan</td>\n",
              "      <td>1 615 114 387 846,00</td>\n",
              "      <td>1 665 549 144 945,82</td>\n",
              "    </tr>\n",
              "    <tr>\n",
              "      <th>4</th>\n",
              "      <td>Ponorogo</td>\n",
              "      <td>2 280 253 624 958,67</td>\n",
              "      <td>2 322 805 767 564,09</td>\n",
              "    </tr>\n",
              "  </tbody>\n",
              "</table>\n",
              "</div>"
            ],
            "text/plain": [
              "  Kabupaten/Kota\\rRegency/Municipality  ...             Unnamed: 0\n",
              "0                                  NaN  ...  Belanja\\rExpenditures\n",
              "1                                  (1)  ...                    (3)\n",
              "2                    Kabupaten/Regency  ...                    NaN\n",
              "3                              Pacitan  ...   1 665 549 144 945,82\n",
              "4                             Ponorogo  ...   2 322 805 767 564,09\n",
              "\n",
              "[5 rows x 3 columns]"
            ]
          },
          "metadata": {
            "tags": []
          },
          "execution_count": 13
        }
      ]
    },
    {
      "cell_type": "markdown",
      "metadata": {
        "id": "Ubsfk7CFJNwo"
      },
      "source": [
        "Perhatikan table diatas, dalam penamaan nama kolom, formatnya masih kurang rapi, selain itu ada kolom-kolom yang masuk ke dalam baris"
      ]
    },
    {
      "cell_type": "code",
      "metadata": {
        "id": "_UuhJ3TKJQ0L"
      },
      "source": [
        "# Cleaning data\n",
        "df_clean = df.iloc[3:].reset_index(drop=True) #mengambil data dari baris index ke-3, dan mereset index agar mulai dari 0\n",
        "\n",
        "df_clean.columns = [df.columns[0],df['2018'][0],df['Unnamed: 0'][0]] #rename nama kolom"
      ],
      "execution_count": 14,
      "outputs": []
    },
    {
      "cell_type": "code",
      "metadata": {
        "colab": {
          "base_uri": "https://localhost:8080/",
          "height": 204
        },
        "id": "mAmnRfHOJWlw",
        "outputId": "651afb96-2be6-446e-cf94-e98cc381d616"
      },
      "source": [
        "df_clean.head()"
      ],
      "execution_count": 15,
      "outputs": [
        {
          "output_type": "execute_result",
          "data": {
            "text/html": [
              "<div>\n",
              "<style scoped>\n",
              "    .dataframe tbody tr th:only-of-type {\n",
              "        vertical-align: middle;\n",
              "    }\n",
              "\n",
              "    .dataframe tbody tr th {\n",
              "        vertical-align: top;\n",
              "    }\n",
              "\n",
              "    .dataframe thead th {\n",
              "        text-align: right;\n",
              "    }\n",
              "</style>\n",
              "<table border=\"1\" class=\"dataframe\">\n",
              "  <thead>\n",
              "    <tr style=\"text-align: right;\">\n",
              "      <th></th>\n",
              "      <th>Kabupaten/Kota\\rRegency/Municipality</th>\n",
              "      <th>Pendapatan\\rRevenues</th>\n",
              "      <th>Belanja\\rExpenditures</th>\n",
              "    </tr>\n",
              "  </thead>\n",
              "  <tbody>\n",
              "    <tr>\n",
              "      <th>0</th>\n",
              "      <td>Pacitan</td>\n",
              "      <td>1 615 114 387 846,00</td>\n",
              "      <td>1 665 549 144 945,82</td>\n",
              "    </tr>\n",
              "    <tr>\n",
              "      <th>1</th>\n",
              "      <td>Ponorogo</td>\n",
              "      <td>2 280 253 624 958,67</td>\n",
              "      <td>2 322 805 767 564,09</td>\n",
              "    </tr>\n",
              "    <tr>\n",
              "      <th>2</th>\n",
              "      <td>Trenggalek</td>\n",
              "      <td>1 783 656 956 465,47</td>\n",
              "      <td>1 946 046 774 834,78</td>\n",
              "    </tr>\n",
              "    <tr>\n",
              "      <th>3</th>\n",
              "      <td>Tulungagung</td>\n",
              "      <td>2 584 915 681 735,77</td>\n",
              "      <td>2 800 598 386 012,13</td>\n",
              "    </tr>\n",
              "    <tr>\n",
              "      <th>4</th>\n",
              "      <td>Blitar</td>\n",
              "      <td>2 361 756 636 564,51</td>\n",
              "      <td>2 456 663 058 142,18</td>\n",
              "    </tr>\n",
              "  </tbody>\n",
              "</table>\n",
              "</div>"
            ],
            "text/plain": [
              "  Kabupaten/Kota\\rRegency/Municipality  ... Belanja\\rExpenditures\n",
              "0                              Pacitan  ...  1 665 549 144 945,82\n",
              "1                             Ponorogo  ...  2 322 805 767 564,09\n",
              "2                           Trenggalek  ...  1 946 046 774 834,78\n",
              "3                          Tulungagung  ...  2 800 598 386 012,13\n",
              "4                               Blitar  ...  2 456 663 058 142,18\n",
              "\n",
              "[5 rows x 3 columns]"
            ]
          },
          "metadata": {
            "tags": []
          },
          "execution_count": 15
        }
      ]
    },
    {
      "cell_type": "code",
      "metadata": {
        "colab": {
          "base_uri": "https://localhost:8080/",
          "height": 1000
        },
        "id": "VDKN-WFpJZyf",
        "outputId": "f8705d81-0aa5-4977-9b05-ecda5bd5317d"
      },
      "source": [
        "# Cleaning data columns\n",
        "df_clean.columns = df_clean.columns.str.replace('\\r', '/') # Mengganti \"\\r\" menjadi spasi\n",
        "df_clean"
      ],
      "execution_count": 16,
      "outputs": [
        {
          "output_type": "execute_result",
          "data": {
            "text/html": [
              "<div>\n",
              "<style scoped>\n",
              "    .dataframe tbody tr th:only-of-type {\n",
              "        vertical-align: middle;\n",
              "    }\n",
              "\n",
              "    .dataframe tbody tr th {\n",
              "        vertical-align: top;\n",
              "    }\n",
              "\n",
              "    .dataframe thead th {\n",
              "        text-align: right;\n",
              "    }\n",
              "</style>\n",
              "<table border=\"1\" class=\"dataframe\">\n",
              "  <thead>\n",
              "    <tr style=\"text-align: right;\">\n",
              "      <th></th>\n",
              "      <th>Kabupaten/Kota/Regency/Municipality</th>\n",
              "      <th>Pendapatan/Revenues</th>\n",
              "      <th>Belanja/Expenditures</th>\n",
              "    </tr>\n",
              "  </thead>\n",
              "  <tbody>\n",
              "    <tr>\n",
              "      <th>0</th>\n",
              "      <td>Pacitan</td>\n",
              "      <td>1 615 114 387 846,00</td>\n",
              "      <td>1 665 549 144 945,82</td>\n",
              "    </tr>\n",
              "    <tr>\n",
              "      <th>1</th>\n",
              "      <td>Ponorogo</td>\n",
              "      <td>2 280 253 624 958,67</td>\n",
              "      <td>2 322 805 767 564,09</td>\n",
              "    </tr>\n",
              "    <tr>\n",
              "      <th>2</th>\n",
              "      <td>Trenggalek</td>\n",
              "      <td>1 783 656 956 465,47</td>\n",
              "      <td>1 946 046 774 834,78</td>\n",
              "    </tr>\n",
              "    <tr>\n",
              "      <th>3</th>\n",
              "      <td>Tulungagung</td>\n",
              "      <td>2 584 915 681 735,77</td>\n",
              "      <td>2 800 598 386 012,13</td>\n",
              "    </tr>\n",
              "    <tr>\n",
              "      <th>4</th>\n",
              "      <td>Blitar</td>\n",
              "      <td>2 361 756 636 564,51</td>\n",
              "      <td>2 456 663 058 142,18</td>\n",
              "    </tr>\n",
              "    <tr>\n",
              "      <th>5</th>\n",
              "      <td>Kediri</td>\n",
              "      <td>2 722 803 932 568,56</td>\n",
              "      <td>3 149 740 395 312,47</td>\n",
              "    </tr>\n",
              "    <tr>\n",
              "      <th>6</th>\n",
              "      <td>Malang</td>\n",
              "      <td>3 800 114 750 714,82</td>\n",
              "      <td>4 050 668 474 662,23</td>\n",
              "    </tr>\n",
              "    <tr>\n",
              "      <th>7</th>\n",
              "      <td>Lumajang</td>\n",
              "      <td>2 094 116 512 299,30</td>\n",
              "      <td>2 256 619 621 618,47</td>\n",
              "    </tr>\n",
              "    <tr>\n",
              "      <th>8</th>\n",
              "      <td>Jember</td>\n",
              "      <td>3 601 294 429 685,50</td>\n",
              "      <td>4 163 624 940 931,97</td>\n",
              "    </tr>\n",
              "    <tr>\n",
              "      <th>9</th>\n",
              "      <td>Banyuwangi</td>\n",
              "      <td>3 112 910 584 037,82</td>\n",
              "      <td>2 932 152 201 493,82</td>\n",
              "    </tr>\n",
              "    <tr>\n",
              "      <th>10</th>\n",
              "      <td>Bondowoso</td>\n",
              "      <td>2 054 792 275 602,83</td>\n",
              "      <td>2 171 884 322 387,31</td>\n",
              "    </tr>\n",
              "    <tr>\n",
              "      <th>11</th>\n",
              "      <td>Situbondo</td>\n",
              "      <td>1 729 391 756 376,90</td>\n",
              "      <td>1 849 288 303 240,09</td>\n",
              "    </tr>\n",
              "    <tr>\n",
              "      <th>12</th>\n",
              "      <td>Probolinggo</td>\n",
              "      <td>2 150 613 638 624,38</td>\n",
              "      <td>2 325 106 278 976,72</td>\n",
              "    </tr>\n",
              "    <tr>\n",
              "      <th>13</th>\n",
              "      <td>Pasuruan</td>\n",
              "      <td>3 258 476 590 551,69</td>\n",
              "      <td>3 376 868 296 332,53</td>\n",
              "    </tr>\n",
              "    <tr>\n",
              "      <th>14</th>\n",
              "      <td>Sidoarjo</td>\n",
              "      <td>4 124 471 103 455,83</td>\n",
              "      <td>5 005 097 845 031,35</td>\n",
              "    </tr>\n",
              "    <tr>\n",
              "      <th>15</th>\n",
              "      <td>Mojokerto</td>\n",
              "      <td>2 392 324 886 534,77</td>\n",
              "      <td>2 672 024 585 315,54</td>\n",
              "    </tr>\n",
              "    <tr>\n",
              "      <th>16</th>\n",
              "      <td>Jombang</td>\n",
              "      <td>2 489 476 899 944,85</td>\n",
              "      <td>2 832 829 111 562,94</td>\n",
              "    </tr>\n",
              "    <tr>\n",
              "      <th>17</th>\n",
              "      <td>Nganjuk</td>\n",
              "      <td>2 324 690 319 859,31</td>\n",
              "      <td>2 617 124 429 605,65</td>\n",
              "    </tr>\n",
              "    <tr>\n",
              "      <th>18</th>\n",
              "      <td>Madiun</td>\n",
              "      <td>1 788 177 228 001,00</td>\n",
              "      <td>1 812 000 389 361,00</td>\n",
              "    </tr>\n",
              "    <tr>\n",
              "      <th>19</th>\n",
              "      <td>Magetan</td>\n",
              "      <td>1 746 041 429 722,08</td>\n",
              "      <td>1 921 830 391 205,08</td>\n",
              "    </tr>\n",
              "    <tr>\n",
              "      <th>20</th>\n",
              "      <td>Ngawi</td>\n",
              "      <td>1 992 494 803 197,85</td>\n",
              "      <td>2 172 957 671 262,18</td>\n",
              "    </tr>\n",
              "    <tr>\n",
              "      <th>21</th>\n",
              "      <td>Bojonegoro</td>\n",
              "      <td>3 350 746 300 371,78</td>\n",
              "      <td>3 628 531 299 762,72</td>\n",
              "    </tr>\n",
              "    <tr>\n",
              "      <th>22</th>\n",
              "      <td>Tuban</td>\n",
              "      <td>2 325 695 728 754,10</td>\n",
              "      <td>2 596 899 799 569,44</td>\n",
              "    </tr>\n",
              "    <tr>\n",
              "      <th>23</th>\n",
              "      <td>Lamongan</td>\n",
              "      <td>2 904 681 838 535,00</td>\n",
              "      <td>2 950 680 611 024,51</td>\n",
              "    </tr>\n",
              "    <tr>\n",
              "      <th>24</th>\n",
              "      <td>Gresik</td>\n",
              "      <td>2 870 853 525 257,00</td>\n",
              "      <td>3 036 339 122 030,74</td>\n",
              "    </tr>\n",
              "    <tr>\n",
              "      <th>25</th>\n",
              "      <td>Bangkalan</td>\n",
              "      <td>2 071 928 257 959,40</td>\n",
              "      <td>2 260 903 470 049,51</td>\n",
              "    </tr>\n",
              "    <tr>\n",
              "      <th>26</th>\n",
              "      <td>Sampang</td>\n",
              "      <td>1 713 487 271 710,06</td>\n",
              "      <td>1 834 655 838 274,49</td>\n",
              "    </tr>\n",
              "    <tr>\n",
              "      <th>27</th>\n",
              "      <td>Pamekasan</td>\n",
              "      <td>1 761 281 131 744,00</td>\n",
              "      <td>2 138 127 562 564,00</td>\n",
              "    </tr>\n",
              "    <tr>\n",
              "      <th>28</th>\n",
              "      <td>Sumenep</td>\n",
              "      <td>2 231 188 899 160,00</td>\n",
              "      <td>2 486 861 383 624,00</td>\n",
              "    </tr>\n",
              "    <tr>\n",
              "      <th>29</th>\n",
              "      <td>Kota/Municipality</td>\n",
              "      <td>NaN</td>\n",
              "      <td>NaN</td>\n",
              "    </tr>\n",
              "    <tr>\n",
              "      <th>30</th>\n",
              "      <td>Kediri</td>\n",
              "      <td>1 225 131 169 223,25</td>\n",
              "      <td>1 425 225 617 136,69</td>\n",
              "    </tr>\n",
              "    <tr>\n",
              "      <th>31</th>\n",
              "      <td>Blitar</td>\n",
              "      <td>844 692 292 324,05</td>\n",
              "      <td>972 204 365 136,51</td>\n",
              "    </tr>\n",
              "    <tr>\n",
              "      <th>32</th>\n",
              "      <td>Malang</td>\n",
              "      <td>1 986 432 106 698,91</td>\n",
              "      <td>2 360 831 551 277,57</td>\n",
              "    </tr>\n",
              "    <tr>\n",
              "      <th>33</th>\n",
              "      <td>Probolinggo</td>\n",
              "      <td>833 603 523 833,37</td>\n",
              "      <td>907 766 807 435,83</td>\n",
              "    </tr>\n",
              "    <tr>\n",
              "      <th>34</th>\n",
              "      <td>Pasuruan</td>\n",
              "      <td>860 332 267 210,24</td>\n",
              "      <td>1 006 333 411 941,04</td>\n",
              "    </tr>\n",
              "    <tr>\n",
              "      <th>35</th>\n",
              "      <td>Mojokerto</td>\n",
              "      <td>903 893 040 082,00</td>\n",
              "      <td>978 603 405 644,03</td>\n",
              "    </tr>\n",
              "    <tr>\n",
              "      <th>36</th>\n",
              "      <td>Madiun</td>\n",
              "      <td>977 096 842 937,00</td>\n",
              "      <td>1 285 587 599 826,46</td>\n",
              "    </tr>\n",
              "    <tr>\n",
              "      <th>37</th>\n",
              "      <td>Surabaya</td>\n",
              "      <td>927 740 607 523,39</td>\n",
              "      <td>1 066 290 673 712,87</td>\n",
              "    </tr>\n",
              "    <tr>\n",
              "      <th>38</th>\n",
              "      <td>Batu</td>\n",
              "      <td>8 079 142 194 268,00</td>\n",
              "      <td>9 268 450 333 673,00</td>\n",
              "    </tr>\n",
              "    <tr>\n",
              "      <th>39</th>\n",
              "      <td>Jawa Timur</td>\n",
              "      <td>87 875 815 426 339,50</td>\n",
              "      <td>96 705 773 242 481,70</td>\n",
              "    </tr>\n",
              "  </tbody>\n",
              "</table>\n",
              "</div>"
            ],
            "text/plain": [
              "   Kabupaten/Kota/Regency/Municipality  ...   Belanja/Expenditures\n",
              "0                              Pacitan  ...   1 665 549 144 945,82\n",
              "1                             Ponorogo  ...   2 322 805 767 564,09\n",
              "2                           Trenggalek  ...   1 946 046 774 834,78\n",
              "3                          Tulungagung  ...   2 800 598 386 012,13\n",
              "4                               Blitar  ...   2 456 663 058 142,18\n",
              "5                               Kediri  ...   3 149 740 395 312,47\n",
              "6                               Malang  ...   4 050 668 474 662,23\n",
              "7                             Lumajang  ...   2 256 619 621 618,47\n",
              "8                               Jember  ...   4 163 624 940 931,97\n",
              "9                           Banyuwangi  ...   2 932 152 201 493,82\n",
              "10                           Bondowoso  ...   2 171 884 322 387,31\n",
              "11                           Situbondo  ...   1 849 288 303 240,09\n",
              "12                         Probolinggo  ...   2 325 106 278 976,72\n",
              "13                            Pasuruan  ...   3 376 868 296 332,53\n",
              "14                            Sidoarjo  ...   5 005 097 845 031,35\n",
              "15                           Mojokerto  ...   2 672 024 585 315,54\n",
              "16                             Jombang  ...   2 832 829 111 562,94\n",
              "17                             Nganjuk  ...   2 617 124 429 605,65\n",
              "18                              Madiun  ...   1 812 000 389 361,00\n",
              "19                             Magetan  ...   1 921 830 391 205,08\n",
              "20                               Ngawi  ...   2 172 957 671 262,18\n",
              "21                          Bojonegoro  ...   3 628 531 299 762,72\n",
              "22                               Tuban  ...   2 596 899 799 569,44\n",
              "23                            Lamongan  ...   2 950 680 611 024,51\n",
              "24                              Gresik  ...   3 036 339 122 030,74\n",
              "25                           Bangkalan  ...   2 260 903 470 049,51\n",
              "26                             Sampang  ...   1 834 655 838 274,49\n",
              "27                           Pamekasan  ...   2 138 127 562 564,00\n",
              "28                             Sumenep  ...   2 486 861 383 624,00\n",
              "29                   Kota/Municipality  ...                    NaN\n",
              "30                              Kediri  ...   1 425 225 617 136,69\n",
              "31                              Blitar  ...     972 204 365 136,51\n",
              "32                              Malang  ...   2 360 831 551 277,57\n",
              "33                         Probolinggo  ...     907 766 807 435,83\n",
              "34                            Pasuruan  ...   1 006 333 411 941,04\n",
              "35                           Mojokerto  ...     978 603 405 644,03\n",
              "36                              Madiun  ...   1 285 587 599 826,46\n",
              "37                            Surabaya  ...   1 066 290 673 712,87\n",
              "38                                Batu  ...   9 268 450 333 673,00\n",
              "39                          Jawa Timur  ...  96 705 773 242 481,70\n",
              "\n",
              "[40 rows x 3 columns]"
            ]
          },
          "metadata": {
            "tags": []
          },
          "execution_count": 16
        }
      ]
    },
    {
      "cell_type": "code",
      "metadata": {
        "id": "CYLnh24WJjhW"
      },
      "source": [
        "#Cleaning Data Content\n",
        "df_clean = df_clean.drop(labels=29, axis=0) #hapus baris index ke-29\n",
        "df_clean['Pendapatan/Revenues'] =  df_clean['Pendapatan/Revenues'].str.replace(\" \", \"\").str.replace(\",\", \".\") #hapus spasi dan ubah tanda koma menjadi titik\n",
        "df_clean['Belanja/Expenditures'] =  df_clean['Belanja/Expenditures'].str.replace(\" \", \"\").str.replace(\",\", \".\") #hapus spasi dan ubah tanda koma menjadi titik"
      ],
      "execution_count": 17,
      "outputs": []
    },
    {
      "cell_type": "code",
      "metadata": {
        "colab": {
          "base_uri": "https://localhost:8080/"
        },
        "id": "i_yI3mJ_Jnrf",
        "outputId": "75b113d3-e9a9-42ba-a40a-4196d8eb2bca"
      },
      "source": [
        "#Cek Tipe Data\n",
        "df_clean.info()"
      ],
      "execution_count": 18,
      "outputs": [
        {
          "output_type": "stream",
          "text": [
            "<class 'pandas.core.frame.DataFrame'>\n",
            "Int64Index: 39 entries, 0 to 39\n",
            "Data columns (total 3 columns):\n",
            " #   Column                               Non-Null Count  Dtype \n",
            "---  ------                               --------------  ----- \n",
            " 0   Kabupaten/Kota/Regency/Municipality  39 non-null     object\n",
            " 1   Pendapatan/Revenues                  39 non-null     object\n",
            " 2   Belanja/Expenditures                 39 non-null     object\n",
            "dtypes: object(3)\n",
            "memory usage: 1.2+ KB\n"
          ],
          "name": "stdout"
        }
      ]
    },
    {
      "cell_type": "code",
      "metadata": {
        "id": "-9sTM6p1JtNd"
      },
      "source": [
        "df_clean['Pendapatan/Revenues'] = df_clean['Pendapatan/Revenues'].astype(float)\n",
        "df_clean['Belanja/Expenditures'] = df_clean['Belanja/Expenditures'].astype(float)"
      ],
      "execution_count": 19,
      "outputs": []
    },
    {
      "cell_type": "code",
      "metadata": {
        "colab": {
          "base_uri": "https://localhost:8080/",
          "height": 204
        },
        "id": "U8m305H2Jw-Z",
        "outputId": "4a7f4c18-ec0d-4898-df8f-e61c04a2055d"
      },
      "source": [
        "df_clean.head()"
      ],
      "execution_count": 20,
      "outputs": [
        {
          "output_type": "execute_result",
          "data": {
            "text/html": [
              "<div>\n",
              "<style scoped>\n",
              "    .dataframe tbody tr th:only-of-type {\n",
              "        vertical-align: middle;\n",
              "    }\n",
              "\n",
              "    .dataframe tbody tr th {\n",
              "        vertical-align: top;\n",
              "    }\n",
              "\n",
              "    .dataframe thead th {\n",
              "        text-align: right;\n",
              "    }\n",
              "</style>\n",
              "<table border=\"1\" class=\"dataframe\">\n",
              "  <thead>\n",
              "    <tr style=\"text-align: right;\">\n",
              "      <th></th>\n",
              "      <th>Kabupaten/Kota/Regency/Municipality</th>\n",
              "      <th>Pendapatan/Revenues</th>\n",
              "      <th>Belanja/Expenditures</th>\n",
              "    </tr>\n",
              "  </thead>\n",
              "  <tbody>\n",
              "    <tr>\n",
              "      <th>0</th>\n",
              "      <td>Pacitan</td>\n",
              "      <td>1.615114e+12</td>\n",
              "      <td>1.665549e+12</td>\n",
              "    </tr>\n",
              "    <tr>\n",
              "      <th>1</th>\n",
              "      <td>Ponorogo</td>\n",
              "      <td>2.280254e+12</td>\n",
              "      <td>2.322806e+12</td>\n",
              "    </tr>\n",
              "    <tr>\n",
              "      <th>2</th>\n",
              "      <td>Trenggalek</td>\n",
              "      <td>1.783657e+12</td>\n",
              "      <td>1.946047e+12</td>\n",
              "    </tr>\n",
              "    <tr>\n",
              "      <th>3</th>\n",
              "      <td>Tulungagung</td>\n",
              "      <td>2.584916e+12</td>\n",
              "      <td>2.800598e+12</td>\n",
              "    </tr>\n",
              "    <tr>\n",
              "      <th>4</th>\n",
              "      <td>Blitar</td>\n",
              "      <td>2.361757e+12</td>\n",
              "      <td>2.456663e+12</td>\n",
              "    </tr>\n",
              "  </tbody>\n",
              "</table>\n",
              "</div>"
            ],
            "text/plain": [
              "  Kabupaten/Kota/Regency/Municipality  ...  Belanja/Expenditures\n",
              "0                             Pacitan  ...          1.665549e+12\n",
              "1                            Ponorogo  ...          2.322806e+12\n",
              "2                          Trenggalek  ...          1.946047e+12\n",
              "3                         Tulungagung  ...          2.800598e+12\n",
              "4                              Blitar  ...          2.456663e+12\n",
              "\n",
              "[5 rows x 3 columns]"
            ]
          },
          "metadata": {
            "tags": []
          },
          "execution_count": 20
        }
      ]
    },
    {
      "cell_type": "markdown",
      "metadata": {
        "id": "qYwXu5KFKAxm"
      },
      "source": [
        " Contoh cara menyimpan data kedalam format .xlsx dan .csv."
      ]
    },
    {
      "cell_type": "code",
      "metadata": {
        "id": "Tpc_00ihKF_a"
      },
      "source": [
        "#convert DataFrame to .xlsx\n",
        "df_clean.to_excel(path + 'convert_excel.xlsx', index=None) # tidak mengimpan index dari dataframe tersebut"
      ],
      "execution_count": 21,
      "outputs": []
    },
    {
      "cell_type": "code",
      "metadata": {
        "id": "hjwnWY9_KJUl"
      },
      "source": [
        "#convert DataFrame to .csv\n",
        "df_clean.to_csv(path + 'convert_csv.csv', index=None) # tidak mengimpan index dari dataframe tersebut"
      ],
      "execution_count": 22,
      "outputs": []
    },
    {
      "cell_type": "markdown",
      "metadata": {
        "id": "lateh1TlKUlx"
      },
      "source": [
        "Convert Pdf to Docx"
      ]
    },
    {
      "cell_type": "code",
      "metadata": {
        "colab": {
          "base_uri": "https://localhost:8080/"
        },
        "id": "YFbWovdlKXRT",
        "outputId": "45b5e03d-45a5-493d-f82d-98b1fda06d36"
      },
      "source": [
        "# Pilih directory tempat file pdf tersimpan\n",
        "pdf_file = path + 'Provinsi Jawa Timur Dalam Angka 2020-pages-85.pdf'\n",
        "\n",
        "# Pilih directory tempat data docx akan tersimpan, dan masukkan nama file untuk file document\n",
        "docx_file = path + 'Provinsi Jawa Timur Dalam Angka 2020.docx' # nama file bisa diganti\n",
        "\n",
        "# Convert pdf to docx\n",
        "cv = Converter(pdf_file)\n",
        "\n",
        "# Proses pdf dan pilih halaman yang akan di convert\n",
        "cv.convert(docx_file, start=0, end=None) #convert pdf halaman pertama\n",
        "cv.close()"
      ],
      "execution_count": 23,
      "outputs": [
        {
          "output_type": "stream",
          "text": [
            "[INFO] Start to convert gdrive/MyDrive/Data/Provinsi Jawa Timur Dalam Angka 2020-pages-85.pdf\n",
            "[INFO] \u001b[1;36m[1/4] Opening document...\u001b[0m\n",
            "[INFO] \u001b[1;36m[2/4] Analyzing document...\u001b[0m\n",
            "[WARNING] Replace font \"MyriadPro\" with \"Times New Roman\" due to lack of data.\n",
            "[WARNING] Replace font \"MyriadPro\" with \"Times New Roman\" due to lack of data.\n",
            "[WARNING] Replace font \"MyriadPro\" with \"Times New Roman\" due to lack of data.\n",
            "[WARNING] Replace font \"MyriadPro\" with \"Times New Roman\" due to lack of data.\n",
            "[WARNING] Replace font \"MyriadPro\" with \"Times New Roman\" due to lack of data.\n",
            "[WARNING] Replace font \"MyriadPro\" with \"Times New Roman\" due to lack of data.\n",
            "[WARNING] Replace font \"Metropolis\" with \"Times New Roman\" due to lack of data.\n",
            "[WARNING] Replace font \"MyriadPro\" with \"Times New Roman\" due to lack of data.\n",
            "[INFO] \u001b[1;36m[3/4] Parsing pages...\u001b[0m\n",
            "[INFO] (1/1) Page 1\n",
            "[WARNING] Ignore Line \"Table2.4.3 Realisasi Pendapatan dan Belanja Pemerintah Provinsi \" due to overlap\n",
            "[WARNING] Ignore Line \"Menurut Kabupaten/Kota di Provinsi Jawa Timur, 2018 dan \" due to overlap\n",
            "[INFO] \u001b[1;36m[4/4] Creating pages...\u001b[0m\n",
            "[INFO] (1/1) Page 1\n",
            "[INFO] Terminated in 1.43s.\n"
          ],
          "name": "stderr"
        }
      ]
    }
  ]
}
